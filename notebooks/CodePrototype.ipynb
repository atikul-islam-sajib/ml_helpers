{
  "nbformat": 4,
  "nbformat_minor": 0,
  "metadata": {
    "colab": {
      "provenance": []
    },
    "kernelspec": {
      "name": "python3",
      "display_name": "Python 3"
    },
    "language_info": {
      "name": "python"
    }
  },
  "cells": [
    {
      "cell_type": "code",
      "execution_count": 1,
      "metadata": {
        "colab": {
          "base_uri": "https://localhost:8080/"
        },
        "id": "q7uEleNr16kC",
        "outputId": "9cf7054e-3ba8-4fc1-e20c-6e5fc5a426d9"
      },
      "outputs": [
        {
          "output_type": "stream",
          "name": "stdout",
          "text": [
            "Cloning into 'ml_helpers'...\n",
            "remote: Enumerating objects: 74, done.\u001b[K\n",
            "remote: Counting objects: 100% (74/74), done.\u001b[K\n",
            "remote: Compressing objects: 100% (55/55), done.\u001b[K\n",
            "remote: Total 74 (delta 37), reused 48 (delta 16), pack-reused 0\u001b[K\n",
            "Receiving objects: 100% (74/74), 21.00 KiB | 10.50 MiB/s, done.\n",
            "Resolving deltas: 100% (37/37), done.\n"
          ]
        }
      ],
      "source": [
        "# Clone the GitHub\n",
        "!git clone https://github.com/atikul-islam-sajib/ml_helpers.git"
      ]
    },
    {
      "cell_type": "code",
      "source": [
        "# Change the directory\n",
        "%cd /content/ml_helpers/"
      ],
      "metadata": {
        "colab": {
          "base_uri": "https://localhost:8080/"
        },
        "id": "C4_bnWva2x_Z",
        "outputId": "d2a7df83-1218-4ba0-fadc-12a0048628e3"
      },
      "execution_count": 2,
      "outputs": [
        {
          "output_type": "stream",
          "name": "stdout",
          "text": [
            "/content/ml_helpers\n"
          ]
        }
      ]
    },
    {
      "cell_type": "code",
      "source": [
        "# Install the requirements\n",
        "!pip install -r requirements.txt"
      ],
      "metadata": {
        "colab": {
          "base_uri": "https://localhost:8080/"
        },
        "id": "Ocgk9XIr2gYd",
        "outputId": "75e32e15-0a59-4157-ff81-796c11f0bc5b"
      },
      "execution_count": 3,
      "outputs": [
        {
          "output_type": "stream",
          "name": "stdout",
          "text": [
            "Requirement already satisfied: graphviz in /usr/local/lib/python3.10/dist-packages (from -r requirements.txt (line 9)) (0.20.1)\n",
            "Requirement already satisfied: numpy in /usr/local/lib/python3.10/dist-packages (from -r requirements.txt (line 10)) (1.23.5)\n",
            "Requirement already satisfied: scikit-learn in /usr/local/lib/python3.10/dist-packages (from -r requirements.txt (line 11)) (1.2.2)\n",
            "Requirement already satisfied: matplotlib in /usr/local/lib/python3.10/dist-packages (from -r requirements.txt (line 12)) (3.7.1)\n",
            "Collecting imodels (from -r requirements.txt (line 13))\n",
            "  Downloading imodels-1.4.1-py3-none-any.whl (231 kB)\n",
            "\u001b[2K     \u001b[90m━━━━━━━━━━━━━━━━━━━━━━━━━━━━━━━━━━━━━━━━\u001b[0m \u001b[32m231.2/231.2 kB\u001b[0m \u001b[31m1.9 MB/s\u001b[0m eta \u001b[36m0:00:00\u001b[0m\n",
            "\u001b[?25hCollecting pmlb (from -r requirements.txt (line 14))\n",
            "  Downloading pmlb-1.0.1.post3-py3-none-any.whl (19 kB)\n",
            "Requirement already satisfied: scipy>=1.3.2 in /usr/local/lib/python3.10/dist-packages (from scikit-learn->-r requirements.txt (line 11)) (1.11.4)\n",
            "Requirement already satisfied: joblib>=1.1.1 in /usr/local/lib/python3.10/dist-packages (from scikit-learn->-r requirements.txt (line 11)) (1.3.2)\n",
            "Requirement already satisfied: threadpoolctl>=2.0.0 in /usr/local/lib/python3.10/dist-packages (from scikit-learn->-r requirements.txt (line 11)) (3.2.0)\n",
            "Requirement already satisfied: contourpy>=1.0.1 in /usr/local/lib/python3.10/dist-packages (from matplotlib->-r requirements.txt (line 12)) (1.2.0)\n",
            "Requirement already satisfied: cycler>=0.10 in /usr/local/lib/python3.10/dist-packages (from matplotlib->-r requirements.txt (line 12)) (0.12.1)\n",
            "Requirement already satisfied: fonttools>=4.22.0 in /usr/local/lib/python3.10/dist-packages (from matplotlib->-r requirements.txt (line 12)) (4.48.1)\n",
            "Requirement already satisfied: kiwisolver>=1.0.1 in /usr/local/lib/python3.10/dist-packages (from matplotlib->-r requirements.txt (line 12)) (1.4.5)\n",
            "Requirement already satisfied: packaging>=20.0 in /usr/local/lib/python3.10/dist-packages (from matplotlib->-r requirements.txt (line 12)) (23.2)\n",
            "Requirement already satisfied: pillow>=6.2.0 in /usr/local/lib/python3.10/dist-packages (from matplotlib->-r requirements.txt (line 12)) (9.4.0)\n",
            "Requirement already satisfied: pyparsing>=2.3.1 in /usr/local/lib/python3.10/dist-packages (from matplotlib->-r requirements.txt (line 12)) (3.1.1)\n",
            "Requirement already satisfied: python-dateutil>=2.7 in /usr/local/lib/python3.10/dist-packages (from matplotlib->-r requirements.txt (line 12)) (2.8.2)\n",
            "Requirement already satisfied: mlxtend>=0.18.0 in /usr/local/lib/python3.10/dist-packages (from imodels->-r requirements.txt (line 13)) (0.22.0)\n",
            "Requirement already satisfied: pandas in /usr/local/lib/python3.10/dist-packages (from imodels->-r requirements.txt (line 13)) (1.5.3)\n",
            "Requirement already satisfied: requests in /usr/local/lib/python3.10/dist-packages (from imodels->-r requirements.txt (line 13)) (2.31.0)\n",
            "Requirement already satisfied: tqdm in /usr/local/lib/python3.10/dist-packages (from imodels->-r requirements.txt (line 13)) (4.66.1)\n",
            "Requirement already satisfied: pyyaml>=5.3.1 in /usr/local/lib/python3.10/dist-packages (from pmlb->-r requirements.txt (line 14)) (6.0.1)\n",
            "Requirement already satisfied: setuptools in /usr/local/lib/python3.10/dist-packages (from mlxtend>=0.18.0->imodels->-r requirements.txt (line 13)) (67.7.2)\n",
            "Requirement already satisfied: pytz>=2020.1 in /usr/local/lib/python3.10/dist-packages (from pandas->imodels->-r requirements.txt (line 13)) (2023.4)\n",
            "Requirement already satisfied: six>=1.5 in /usr/local/lib/python3.10/dist-packages (from python-dateutil>=2.7->matplotlib->-r requirements.txt (line 12)) (1.16.0)\n",
            "Requirement already satisfied: charset-normalizer<4,>=2 in /usr/local/lib/python3.10/dist-packages (from requests->imodels->-r requirements.txt (line 13)) (3.3.2)\n",
            "Requirement already satisfied: idna<4,>=2.5 in /usr/local/lib/python3.10/dist-packages (from requests->imodels->-r requirements.txt (line 13)) (3.6)\n",
            "Requirement already satisfied: urllib3<3,>=1.21.1 in /usr/local/lib/python3.10/dist-packages (from requests->imodels->-r requirements.txt (line 13)) (2.0.7)\n",
            "Requirement already satisfied: certifi>=2017.4.17 in /usr/local/lib/python3.10/dist-packages (from requests->imodels->-r requirements.txt (line 13)) (2024.2.2)\n",
            "Installing collected packages: pmlb, imodels\n",
            "Successfully installed imodels-1.4.1 pmlb-1.0.1.post3\n"
          ]
        }
      ]
    },
    {
      "cell_type": "markdown",
      "source": [
        "#Import the modules"
      ],
      "metadata": {
        "id": "hzR-MxFz5du-"
      }
    },
    {
      "cell_type": "code",
      "source": [
        "# Import the module\n",
        "from src.classifier import CustomRandomForestClassifier\n",
        "from src.regressor import CustomRandomForestRegressor\n",
        "from src.benchmark_evalaute import evaluate_datasets\n",
        "from src.chart import Charts"
      ],
      "metadata": {
        "id": "UdZNhOuG2M_I"
      },
      "execution_count": 4,
      "outputs": []
    },
    {
      "cell_type": "markdown",
      "source": [
        "#Define the Dataset Classification"
      ],
      "metadata": {
        "id": "pdlTYaPa6Mey"
      }
    },
    {
      "cell_type": "code",
      "source": [
        "import warnings\n",
        "warnings.filterwarnings('ignore')\n",
        "\n",
        "\n",
        "from sklearn.datasets import make_classification\n",
        "X, y = make_classification(\n",
        "    n_samples=1000, n_features=4, n_informative=2, n_redundant=0, random_state=42\n",
        "    )"
      ],
      "metadata": {
        "colab": {
          "base_uri": "https://localhost:8080/"
        },
        "id": "Fqh2e2yI5nX-",
        "outputId": "6187b146-6bc0-47cb-c1bb-31000f91b95a"
      },
      "execution_count": 5,
      "outputs": [
        {
          "output_type": "stream",
          "name": "stderr",
          "text": [
            "/usr/local/lib/python3.10/dist-packages/ipykernel/ipkernel.py:283: DeprecationWarning: `should_run_async` will not call `transform_cell` automatically in the future. Please pass the result to `transformed_cell` argument and any exception that happen during thetransform in `preprocessing_exc_tuple` in IPython 7.17 and above.\n",
            "  and should_run_async(code)\n"
          ]
        }
      ]
    },
    {
      "cell_type": "markdown",
      "source": [
        "###predict the model with weight(Uniform)"
      ],
      "metadata": {
        "id": "On75zKB86PZk"
      }
    },
    {
      "cell_type": "code",
      "source": [
        "# Predict the model\n",
        "clf = CustomRandomForestClassifier(n_estimators=10)\n",
        "clf.fit(X, y)\n",
        "print(clf.predict(X[:5], weights=\"uniform\"))\n",
        "\n",
        "# Using predict_proba that provide probabilites\n",
        "\n",
        "clf = CustomRandomForestClassifier(n_estimators=10)\n",
        "clf.fit(X, y)\n",
        "print(clf.predict_proba(X[:5], weights=\"uniform\"))"
      ],
      "metadata": {
        "colab": {
          "base_uri": "https://localhost:8080/"
        },
        "id": "nMhB21yM61a8",
        "outputId": "d5846d2e-8171-4a0b-cb2f-05785eb3e101"
      },
      "execution_count": 6,
      "outputs": [
        {
          "output_type": "stream",
          "name": "stdout",
          "text": [
            "[1 0 0 1 1]\n",
            "[[0.  1. ]\n",
            " [1.  0. ]\n",
            " [1.  0. ]\n",
            " [0.  1. ]\n",
            " [0.1 0.9]]\n"
          ]
        }
      ]
    },
    {
      "cell_type": "markdown",
      "source": [
        "###Predict the model with weight(expOOB)"
      ],
      "metadata": {
        "id": "LYP-E65w6osJ"
      }
    },
    {
      "cell_type": "code",
      "source": [
        "# Predict the model\n",
        "clf = CustomRandomForestClassifier(n_estimators=10)\n",
        "clf.fit(X, y)\n",
        "print(clf.predict(X[:5], weights=\"expOOB\"))\n",
        "\n",
        "# Using predict_proba that provide probabilites\n",
        "\n",
        "clf = CustomRandomForestClassifier(n_estimators=10)\n",
        "clf.fit(X, y)\n",
        "print(clf.predict_proba(X[:5], weights=\"expOOB\"))"
      ],
      "metadata": {
        "colab": {
          "base_uri": "https://localhost:8080/"
        },
        "id": "pQaUZons6XVH",
        "outputId": "f3d86f95-9b67-44f8-b102-b39847353d3a"
      },
      "execution_count": 7,
      "outputs": [
        {
          "output_type": "stream",
          "name": "stdout",
          "text": [
            "[1 0 0 1 1]\n",
            "[[0. 1.]\n",
            " [1. 0.]\n",
            " [1. 0.]\n",
            " [0. 1.]\n",
            " [0. 1.]]\n"
          ]
        }
      ]
    },
    {
      "cell_type": "markdown",
      "source": [
        "#Define the Dataset for Regressor"
      ],
      "metadata": {
        "id": "_R-qUNbK8tWG"
      }
    },
    {
      "cell_type": "code",
      "source": [
        "from sklearn.datasets import make_regression\n",
        "X, y = make_regression(\n",
        "    n_samples=1000, n_features=4, n_informative=2, noise=0.5, random_state=42)"
      ],
      "metadata": {
        "id": "5d3wBfXs8xlU"
      },
      "execution_count": 8,
      "outputs": []
    },
    {
      "cell_type": "markdown",
      "source": [
        "####Predict the model with weight(uniform)"
      ],
      "metadata": {
        "id": "QzVUqUST86vy"
      }
    },
    {
      "cell_type": "code",
      "source": [
        "# Predict the model with weight - uniform\n",
        "reg = CustomRandomForestRegressor(n_estimators=100, random_state=42)\n",
        "reg.fit(X, y)\n",
        "print(reg.predict(X[:5], weights = \"uniform\"))"
      ],
      "metadata": {
        "colab": {
          "base_uri": "https://localhost:8080/"
        },
        "id": "wNtbEGUZ8-sC",
        "outputId": "dfda25f7-1deb-4f01-a588-1d8d1abbb7f5"
      },
      "execution_count": 9,
      "outputs": [
        {
          "output_type": "stream",
          "name": "stdout",
          "text": [
            "[-17.97860333  82.48225867  40.8653016   94.58508302 -95.30508413]\n"
          ]
        }
      ]
    },
    {
      "cell_type": "markdown",
      "source": [
        "####Predict the mdoel with weights(expOOB)"
      ],
      "metadata": {
        "id": "-k42PZGC9VQa"
      }
    },
    {
      "cell_type": "code",
      "source": [
        "# Predict the model\n",
        "reg = CustomRandomForestRegressor(n_estimators=100, random_state=42)\n",
        "reg.fit(X, y)\n",
        "print(reg.predict(X[:5], weights = \"expOOB\"))"
      ],
      "metadata": {
        "colab": {
          "base_uri": "https://localhost:8080/"
        },
        "id": "dlJKXHZ59gUN",
        "outputId": "9f25bef1-2ffd-4960-9aea-e22572036191"
      },
      "execution_count": 10,
      "outputs": [
        {
          "output_type": "stream",
          "name": "stdout",
          "text": [
            "[-17.4208611   83.22540804  40.09542304  94.43333363 -94.54827658]\n"
          ]
        }
      ]
    },
    {
      "cell_type": "markdown",
      "source": [
        "#Test with Benchmarking Data"
      ],
      "metadata": {
        "id": "_ismAZjf5gws"
      }
    },
    {
      "cell_type": "code",
      "source": [
        "if __name__ == \"__main__\":\n",
        "\n",
        "    # Define your datasets\n",
        "    classification_datasets = [\"diabetes\", \"breast_cancer\", \"heart\", \"haberman\"]\n",
        "    regression_datasets = [\"fico\", \"enhancer\", \"credit_g\", \"juvenile_clean\"]\n",
        "\n",
        "    # Evaluate classification datasets\n",
        "    df_classification_scores = evaluate_datasets(\n",
        "        classification_datasets, task_type=\"classification\"\n",
        "    )\n",
        "\n",
        "    # Evaluate regression datasetss\n",
        "    df_regression_scores = evaluate_datasets(\n",
        "        regression_datasets, task_type=\"regression\"\n",
        "    )\n",
        "\n",
        "    # Print scores for each dataset\n",
        "    print(\"Classification Scores:\")\n",
        "    print(df_classification_scores)\n",
        "    print(\"=\" * 100)\n",
        "    print(\"\\nRegression Scores:\")\n",
        "    print(df_regression_scores)"
      ],
      "metadata": {
        "colab": {
          "base_uri": "https://localhost:8080/"
        },
        "id": "7EumBzhM2doX",
        "outputId": "66d8154e-2e74-491d-8095-279efdc8d767"
      },
      "execution_count": 11,
      "outputs": [
        {
          "output_type": "stream",
          "name": "stdout",
          "text": [
            "fetching diabetes from pmlb\n",
            "fetching heart from imodels\n",
            "fetching fico from imodels\n",
            "fetching credit_g from imodels\n",
            "Classification Scores:\n",
            "         Dataset   Default    expOOB\n",
            "0       diabetes  0.830926  0.830370\n",
            "1  breast_cancer  0.828231  0.828231\n",
            "2          heart  0.915584  0.916306\n",
            "3       haberman  0.624369  0.623737\n",
            "====================================================================================================\n",
            "\n",
            "Regression Scores:\n",
            "          Dataset   Default    expOOB\n",
            "0            fico  0.448790  0.448789\n",
            "1        enhancer  0.245904  0.245917\n",
            "2        credit_g  0.398569  0.398691\n",
            "3  juvenile_clean  0.262467  0.262477\n"
          ]
        }
      ]
    },
    {
      "cell_type": "markdown",
      "source": [
        "#Display the tree for Classifier"
      ],
      "metadata": {
        "id": "H0jkZ-zE_-n0"
      }
    },
    {
      "cell_type": "code",
      "source": [
        "# Import the datasets from imodels\n",
        "from imodels.util.data_util import get_clean_dataset\n",
        "X, y, feature_names = get_clean_dataset('heart')\n",
        "\n",
        "model = CustomRandomForestClassifier(n_estimators=3, max_depth=3)\n",
        "model.fit(X, y)\n",
        "\n",
        "charts = Charts()\n",
        "graph = charts.plot_tree(model, feature_names, y)\n",
        "graph\n",
        "\n",
        "\n",
        "# '''\n",
        "# This will work also for scikit-learn RF, DT:\n",
        "# -------------------------------------------\n",
        "# >>>> model = RandomForestClassifier(n_estimators=3, max_depth=3)\n",
        "# >>>> model.fit(X, y)\n",
        "\n",
        "# >>>> charts = Charts()\n",
        "# >>>> graph = charts.plot_tree(model, feature_names, y)\n",
        "# >>>> graph\n",
        "# '''"
      ],
      "metadata": {
        "colab": {
          "base_uri": "https://localhost:8080/",
          "height": 916
        },
        "id": "xBabeZwa4koK",
        "outputId": "f2776e8e-3262-49b9-f9d0-8c9629eb8b2f"
      },
      "execution_count": 12,
      "outputs": [
        {
          "output_type": "stream",
          "name": "stdout",
          "text": [
            "fetching heart from imodels\n"
          ]
        },
        {
          "output_type": "execute_result",
          "data": {
            "image/svg+xml": "<?xml version=\"1.0\" encoding=\"UTF-8\" standalone=\"no\"?>\n<!DOCTYPE svg PUBLIC \"-//W3C//DTD SVG 1.1//EN\"\n \"http://www.w3.org/Graphics/SVG/1.1/DTD/svg11.dtd\">\n<!-- Generated by graphviz version 2.43.0 (0)\n -->\n<!-- Title: Tree Pages: 1 -->\n<svg width=\"1446pt\" height=\"643pt\"\n viewBox=\"0.00 0.00 1446.00 643.00\" xmlns=\"http://www.w3.org/2000/svg\" xmlns:xlink=\"http://www.w3.org/1999/xlink\">\n<g id=\"graph0\" class=\"graph\" transform=\"scale(1 1) rotate(0) translate(4 639)\">\n<title>Tree</title>\n<polygon fill=\"white\" stroke=\"transparent\" points=\"-4,4 -4,-639 1442,-639 1442,4 -4,4\"/>\n<!-- 0 -->\n<g id=\"node1\" class=\"node\">\n<title>0</title>\n<polygon fill=\"#08306b\" stroke=\"black\" points=\"749,-635 585,-635 585,-507 749,-507 749,-635\"/>\n<text text-anchor=\"middle\" x=\"667\" y=\"-619.8\" font-family=\"Helvetica,sans-Serif\" font-size=\"14.00\">Node 0</text>\n<text text-anchor=\"middle\" x=\"667\" y=\"-604.8\" font-family=\"Helvetica,sans-Serif\" font-size=\"14.00\">Samples: 165</text>\n<text text-anchor=\"middle\" x=\"667\" y=\"-589.8\" font-family=\"Helvetica,sans-Serif\" font-size=\"14.00\">Value: [149. 121.]</text>\n<text text-anchor=\"middle\" x=\"667\" y=\"-574.8\" font-family=\"Helvetica,sans-Serif\" font-size=\"14.00\">Impurity: 0.49</text>\n<text text-anchor=\"middle\" x=\"667\" y=\"-559.8\" font-family=\"Helvetica,sans-Serif\" font-size=\"14.00\">Impurity Reduction: 0.11</text>\n<text text-anchor=\"middle\" x=\"667\" y=\"-544.8\" font-family=\"Helvetica,sans-Serif\" font-size=\"14.00\">Custom Metric: 0.94</text>\n<text text-anchor=\"middle\" x=\"667\" y=\"-529.8\" font-family=\"Helvetica,sans-Serif\" font-size=\"14.00\">Feature: att_3</text>\n<text text-anchor=\"middle\" x=\"667\" y=\"-514.8\" font-family=\"Helvetica,sans-Serif\" font-size=\"14.00\">Threshold: 0.67</text>\n</g>\n<!-- 1 -->\n<g id=\"node2\" class=\"node\">\n<title>1</title>\n<polygon fill=\"#3080bd\" stroke=\"black\" points=\"568,-456 404,-456 404,-328 568,-328 568,-456\"/>\n<text text-anchor=\"middle\" x=\"486\" y=\"-440.8\" font-family=\"Helvetica,sans-Serif\" font-size=\"14.00\">Node 1</text>\n<text text-anchor=\"middle\" x=\"486\" y=\"-425.8\" font-family=\"Helvetica,sans-Serif\" font-size=\"14.00\">Samples: 89</text>\n<text text-anchor=\"middle\" x=\"486\" y=\"-410.8\" font-family=\"Helvetica,sans-Serif\" font-size=\"14.00\">Value: [107. &#160;30.]</text>\n<text text-anchor=\"middle\" x=\"486\" y=\"-395.8\" font-family=\"Helvetica,sans-Serif\" font-size=\"14.00\">Impurity: 0.34</text>\n<text text-anchor=\"middle\" x=\"486\" y=\"-380.8\" font-family=\"Helvetica,sans-Serif\" font-size=\"14.00\">Impurity Reduction: 0.02</text>\n<text text-anchor=\"middle\" x=\"486\" y=\"-365.8\" font-family=\"Helvetica,sans-Serif\" font-size=\"14.00\">Custom Metric: 0.05</text>\n<text text-anchor=\"middle\" x=\"486\" y=\"-350.8\" font-family=\"Helvetica,sans-Serif\" font-size=\"14.00\">Feature: att_5</text>\n<text text-anchor=\"middle\" x=\"486\" y=\"-335.8\" font-family=\"Helvetica,sans-Serif\" font-size=\"14.00\">Threshold: &#45;0.56</text>\n</g>\n<!-- 0&#45;&gt;1 -->\n<g id=\"edge1\" class=\"edge\">\n<title>0&#45;&gt;1</title>\n<path fill=\"none\" stroke=\"black\" d=\"M602.42,-506.85C587.94,-492.69 572.49,-477.58 557.73,-463.15\"/>\n<polygon fill=\"black\" stroke=\"black\" points=\"560.15,-460.62 550.55,-456.13 555.26,-465.62 560.15,-460.62\"/>\n<text text-anchor=\"middle\" x=\"593\" y=\"-477.8\" font-family=\"Helvetica,sans-Serif\" font-size=\"14.00\">yes</text>\n</g>\n<!-- 8 -->\n<g id=\"node3\" class=\"node\">\n<title>8</title>\n<polygon fill=\"#08519c\" stroke=\"black\" points=\"972,-456 808,-456 808,-328 972,-328 972,-456\"/>\n<text text-anchor=\"middle\" x=\"890\" y=\"-440.8\" font-family=\"Helvetica,sans-Serif\" font-size=\"14.00\">Node 8</text>\n<text text-anchor=\"middle\" x=\"890\" y=\"-425.8\" font-family=\"Helvetica,sans-Serif\" font-size=\"14.00\">Samples: 76</text>\n<text text-anchor=\"middle\" x=\"890\" y=\"-410.8\" font-family=\"Helvetica,sans-Serif\" font-size=\"14.00\">Value: [42. 91.]</text>\n<text text-anchor=\"middle\" x=\"890\" y=\"-395.8\" font-family=\"Helvetica,sans-Serif\" font-size=\"14.00\">Impurity: 0.43</text>\n<text text-anchor=\"middle\" x=\"890\" y=\"-380.8\" font-family=\"Helvetica,sans-Serif\" font-size=\"14.00\">Impurity Reduction: 0.13</text>\n<text text-anchor=\"middle\" x=\"890\" y=\"-365.8\" font-family=\"Helvetica,sans-Serif\" font-size=\"14.00\">Custom Metric: 0.01</text>\n<text text-anchor=\"middle\" x=\"890\" y=\"-350.8\" font-family=\"Helvetica,sans-Serif\" font-size=\"14.00\">Feature: att_12</text>\n<text text-anchor=\"middle\" x=\"890\" y=\"-335.8\" font-family=\"Helvetica,sans-Serif\" font-size=\"14.00\">Threshold: &#45;0.67</text>\n</g>\n<!-- 0&#45;&gt;8 -->\n<g id=\"edge2\" class=\"edge\">\n<title>0&#45;&gt;8</title>\n<path fill=\"none\" stroke=\"black\" d=\"M746.56,-506.85C764.73,-492.43 784.14,-477.03 802.61,-462.36\"/>\n<polygon fill=\"black\" stroke=\"black\" points=\"804.81,-465.09 810.47,-456.13 800.46,-459.6 804.81,-465.09\"/>\n<text text-anchor=\"middle\" x=\"794\" y=\"-477.8\" font-family=\"Helvetica,sans-Serif\" font-size=\"14.00\">no</text>\n</g>\n<!-- 2 -->\n<g id=\"node4\" class=\"node\">\n<title>2</title>\n<polygon fill=\"#c4daee\" stroke=\"black\" points=\"346,-277 182,-277 182,-149 346,-149 346,-277\"/>\n<text text-anchor=\"middle\" x=\"264\" y=\"-261.8\" font-family=\"Helvetica,sans-Serif\" font-size=\"14.00\">Node 2</text>\n<text text-anchor=\"middle\" x=\"264\" y=\"-246.8\" font-family=\"Helvetica,sans-Serif\" font-size=\"14.00\">Samples: 30</text>\n<text text-anchor=\"middle\" x=\"264\" y=\"-231.8\" font-family=\"Helvetica,sans-Serif\" font-size=\"14.00\">Value: [41. &#160;3.]</text>\n<text text-anchor=\"middle\" x=\"264\" y=\"-216.8\" font-family=\"Helvetica,sans-Serif\" font-size=\"14.00\">Impurity: 0.13</text>\n<text text-anchor=\"middle\" x=\"264\" y=\"-201.8\" font-family=\"Helvetica,sans-Serif\" font-size=\"14.00\">Impurity Reduction: 0.08</text>\n<text text-anchor=\"middle\" x=\"264\" y=\"-186.8\" font-family=\"Helvetica,sans-Serif\" font-size=\"14.00\">Custom Metric: 0.57</text>\n<text text-anchor=\"middle\" x=\"264\" y=\"-171.8\" font-family=\"Helvetica,sans-Serif\" font-size=\"14.00\">Feature: att_10</text>\n<text text-anchor=\"middle\" x=\"264\" y=\"-156.8\" font-family=\"Helvetica,sans-Serif\" font-size=\"14.00\">Threshold: &#45;0.32</text>\n</g>\n<!-- 1&#45;&gt;2 -->\n<g id=\"edge3\" class=\"edge\">\n<title>1&#45;&gt;2</title>\n<path fill=\"none\" stroke=\"black\" d=\"M406.79,-327.85C388.71,-313.43 369.39,-298.03 351,-283.36\"/>\n<polygon fill=\"black\" stroke=\"black\" points=\"353.18,-280.62 343.18,-277.13 348.81,-286.1 353.18,-280.62\"/>\n<text text-anchor=\"middle\" x=\"393\" y=\"-298.8\" font-family=\"Helvetica,sans-Serif\" font-size=\"14.00\">yes</text>\n</g>\n<!-- 5 -->\n<g id=\"node5\" class=\"node\">\n<title>5</title>\n<polygon fill=\"#105ba4\" stroke=\"black\" points=\"568,-277 404,-277 404,-149 568,-149 568,-277\"/>\n<text text-anchor=\"middle\" x=\"486\" y=\"-261.8\" font-family=\"Helvetica,sans-Serif\" font-size=\"14.00\">Node 5</text>\n<text text-anchor=\"middle\" x=\"486\" y=\"-246.8\" font-family=\"Helvetica,sans-Serif\" font-size=\"14.00\">Samples: 59</text>\n<text text-anchor=\"middle\" x=\"486\" y=\"-231.8\" font-family=\"Helvetica,sans-Serif\" font-size=\"14.00\">Value: [66. 27.]</text>\n<text text-anchor=\"middle\" x=\"486\" y=\"-216.8\" font-family=\"Helvetica,sans-Serif\" font-size=\"14.00\">Impurity: 0.41</text>\n<text text-anchor=\"middle\" x=\"486\" y=\"-201.8\" font-family=\"Helvetica,sans-Serif\" font-size=\"14.00\">Impurity Reduction: 0.12</text>\n<text text-anchor=\"middle\" x=\"486\" y=\"-186.8\" font-family=\"Helvetica,sans-Serif\" font-size=\"14.00\">Custom Metric: 0.81</text>\n<text text-anchor=\"middle\" x=\"486\" y=\"-171.8\" font-family=\"Helvetica,sans-Serif\" font-size=\"14.00\">Feature: att_13_1.0</text>\n<text text-anchor=\"middle\" x=\"486\" y=\"-156.8\" font-family=\"Helvetica,sans-Serif\" font-size=\"14.00\">Threshold: 0.50</text>\n</g>\n<!-- 1&#45;&gt;5 -->\n<g id=\"edge4\" class=\"edge\">\n<title>1&#45;&gt;5</title>\n<path fill=\"none\" stroke=\"black\" d=\"M486,-327.6C486,-314.56 486,-300.72 486,-287.36\"/>\n<polygon fill=\"black\" stroke=\"black\" points=\"489.5,-287.26 486,-277.26 482.5,-287.26 489.5,-287.26\"/>\n<text text-anchor=\"middle\" x=\"494\" y=\"-298.8\" font-family=\"Helvetica,sans-Serif\" font-size=\"14.00\">no</text>\n</g>\n<!-- 9 -->\n<g id=\"node10\" class=\"node\">\n<title>9</title>\n<polygon fill=\"#083370\" stroke=\"black\" points=\"972,-277 808,-277 808,-149 972,-149 972,-277\"/>\n<text text-anchor=\"middle\" x=\"890\" y=\"-261.8\" font-family=\"Helvetica,sans-Serif\" font-size=\"14.00\">Node 9</text>\n<text text-anchor=\"middle\" x=\"890\" y=\"-246.8\" font-family=\"Helvetica,sans-Serif\" font-size=\"14.00\">Samples: 38</text>\n<text text-anchor=\"middle\" x=\"890\" y=\"-231.8\" font-family=\"Helvetica,sans-Serif\" font-size=\"14.00\">Value: [37. 27.]</text>\n<text text-anchor=\"middle\" x=\"890\" y=\"-216.8\" font-family=\"Helvetica,sans-Serif\" font-size=\"14.00\">Impurity: 0.49</text>\n<text text-anchor=\"middle\" x=\"890\" y=\"-201.8\" font-family=\"Helvetica,sans-Serif\" font-size=\"14.00\">Impurity Reduction: 0.21</text>\n<text text-anchor=\"middle\" x=\"890\" y=\"-186.8\" font-family=\"Helvetica,sans-Serif\" font-size=\"14.00\">Custom Metric: 0.69</text>\n<text text-anchor=\"middle\" x=\"890\" y=\"-171.8\" font-family=\"Helvetica,sans-Serif\" font-size=\"14.00\">Feature: att_13_&#45;1.0</text>\n<text text-anchor=\"middle\" x=\"890\" y=\"-156.8\" font-family=\"Helvetica,sans-Serif\" font-size=\"14.00\">Threshold: 0.50</text>\n</g>\n<!-- 8&#45;&gt;9 -->\n<g id=\"edge9\" class=\"edge\">\n<title>8&#45;&gt;9</title>\n<path fill=\"none\" stroke=\"black\" d=\"M890,-327.6C890,-314.56 890,-300.72 890,-287.36\"/>\n<polygon fill=\"black\" stroke=\"black\" points=\"893.5,-287.26 890,-277.26 886.5,-287.26 893.5,-287.26\"/>\n<text text-anchor=\"middle\" x=\"901\" y=\"-298.8\" font-family=\"Helvetica,sans-Serif\" font-size=\"14.00\">yes</text>\n</g>\n<!-- 12 -->\n<g id=\"node11\" class=\"node\">\n<title>12</title>\n<polygon fill=\"#bfd8ed\" stroke=\"black\" points=\"1256,-277 1092,-277 1092,-149 1256,-149 1256,-277\"/>\n<text text-anchor=\"middle\" x=\"1174\" y=\"-261.8\" font-family=\"Helvetica,sans-Serif\" font-size=\"14.00\">Node 12</text>\n<text text-anchor=\"middle\" x=\"1174\" y=\"-246.8\" font-family=\"Helvetica,sans-Serif\" font-size=\"14.00\">Samples: 38</text>\n<text text-anchor=\"middle\" x=\"1174\" y=\"-231.8\" font-family=\"Helvetica,sans-Serif\" font-size=\"14.00\">Value: [ 5. 64.]</text>\n<text text-anchor=\"middle\" x=\"1174\" y=\"-216.8\" font-family=\"Helvetica,sans-Serif\" font-size=\"14.00\">Impurity: 0.13</text>\n<text text-anchor=\"middle\" x=\"1174\" y=\"-201.8\" font-family=\"Helvetica,sans-Serif\" font-size=\"14.00\">Impurity Reduction: 0.02</text>\n<text text-anchor=\"middle\" x=\"1174\" y=\"-186.8\" font-family=\"Helvetica,sans-Serif\" font-size=\"14.00\">Custom Metric: 0.48</text>\n<text text-anchor=\"middle\" x=\"1174\" y=\"-171.8\" font-family=\"Helvetica,sans-Serif\" font-size=\"14.00\">Feature: att_4</text>\n<text text-anchor=\"middle\" x=\"1174\" y=\"-156.8\" font-family=\"Helvetica,sans-Serif\" font-size=\"14.00\">Threshold: &#45;0.75</text>\n</g>\n<!-- 8&#45;&gt;12 -->\n<g id=\"edge10\" class=\"edge\">\n<title>8&#45;&gt;12</title>\n<path fill=\"none\" stroke=\"black\" d=\"M972.14,-339.8C1006.73,-318.25 1047.11,-293.08 1082.63,-270.95\"/>\n<polygon fill=\"black\" stroke=\"black\" points=\"1084.91,-273.65 1091.55,-265.39 1081.21,-267.71 1084.91,-273.65\"/>\n<text text-anchor=\"middle\" x=\"1049\" y=\"-298.8\" font-family=\"Helvetica,sans-Serif\" font-size=\"14.00\">no</text>\n</g>\n<!-- 3 -->\n<g id=\"node6\" class=\"node\">\n<title>3</title>\n<polygon fill=\"#e4eff9\" stroke=\"black\" points=\"164,-98 0,-98 0,0 164,0 164,-98\"/>\n<text text-anchor=\"middle\" x=\"82\" y=\"-82.8\" font-family=\"Helvetica,sans-Serif\" font-size=\"14.00\">Node 3</text>\n<text text-anchor=\"middle\" x=\"82\" y=\"-67.8\" font-family=\"Helvetica,sans-Serif\" font-size=\"14.00\">Samples: 28</text>\n<text text-anchor=\"middle\" x=\"82\" y=\"-52.8\" font-family=\"Helvetica,sans-Serif\" font-size=\"14.00\">Value: [41. &#160;1.]</text>\n<text text-anchor=\"middle\" x=\"82\" y=\"-37.8\" font-family=\"Helvetica,sans-Serif\" font-size=\"14.00\">Impurity: 0.05</text>\n<text text-anchor=\"middle\" x=\"82\" y=\"-22.8\" font-family=\"Helvetica,sans-Serif\" font-size=\"14.00\">Impurity Reduction: 0.00</text>\n<text text-anchor=\"middle\" x=\"82\" y=\"-7.8\" font-family=\"Helvetica,sans-Serif\" font-size=\"14.00\">Custom Metric: 0.91</text>\n</g>\n<!-- 2&#45;&gt;3 -->\n<g id=\"edge5\" class=\"edge\">\n<title>2&#45;&gt;3</title>\n<path fill=\"none\" stroke=\"black\" d=\"M193.11,-148.9C176.82,-134.4 159.61,-119.08 143.74,-104.95\"/>\n<polygon fill=\"black\" stroke=\"black\" points=\"145.86,-102.16 136.06,-98.12 141.21,-107.39 145.86,-102.16\"/>\n<text text-anchor=\"middle\" x=\"184\" y=\"-119.8\" font-family=\"Helvetica,sans-Serif\" font-size=\"14.00\">yes</text>\n</g>\n<!-- 4 -->\n<g id=\"node7\" class=\"node\">\n<title>4</title>\n<polygon fill=\"#f7fbff\" stroke=\"black\" points=\"346,-98 182,-98 182,0 346,0 346,-98\"/>\n<text text-anchor=\"middle\" x=\"264\" y=\"-82.8\" font-family=\"Helvetica,sans-Serif\" font-size=\"14.00\">Node 4</text>\n<text text-anchor=\"middle\" x=\"264\" y=\"-67.8\" font-family=\"Helvetica,sans-Serif\" font-size=\"14.00\">Samples: 2</text>\n<text text-anchor=\"middle\" x=\"264\" y=\"-52.8\" font-family=\"Helvetica,sans-Serif\" font-size=\"14.00\">Value: [0. 2.]</text>\n<text text-anchor=\"middle\" x=\"264\" y=\"-37.8\" font-family=\"Helvetica,sans-Serif\" font-size=\"14.00\">Impurity: 0.00</text>\n<text text-anchor=\"middle\" x=\"264\" y=\"-22.8\" font-family=\"Helvetica,sans-Serif\" font-size=\"14.00\">Impurity Reduction: 0.00</text>\n<text text-anchor=\"middle\" x=\"264\" y=\"-7.8\" font-family=\"Helvetica,sans-Serif\" font-size=\"14.00\">Custom Metric: 0.05</text>\n</g>\n<!-- 2&#45;&gt;4 -->\n<g id=\"edge6\" class=\"edge\">\n<title>2&#45;&gt;4</title>\n<path fill=\"none\" stroke=\"black\" d=\"M264,-148.9C264,-135.58 264,-121.58 264,-108.45\"/>\n<polygon fill=\"black\" stroke=\"black\" points=\"267.5,-108.12 264,-98.12 260.5,-108.12 267.5,-108.12\"/>\n<text text-anchor=\"middle\" x=\"272\" y=\"-119.8\" font-family=\"Helvetica,sans-Serif\" font-size=\"14.00\">no</text>\n</g>\n<!-- 6 -->\n<g id=\"node8\" class=\"node\">\n<title>6</title>\n<polygon fill=\"#82bbdb\" stroke=\"black\" points=\"528,-98 364,-98 364,0 528,0 528,-98\"/>\n<text text-anchor=\"middle\" x=\"446\" y=\"-82.8\" font-family=\"Helvetica,sans-Serif\" font-size=\"14.00\">Node 6</text>\n<text text-anchor=\"middle\" x=\"446\" y=\"-67.8\" font-family=\"Helvetica,sans-Serif\" font-size=\"14.00\">Samples: 41</text>\n<text text-anchor=\"middle\" x=\"446\" y=\"-52.8\" font-family=\"Helvetica,sans-Serif\" font-size=\"14.00\">Value: [56. &#160;8.]</text>\n<text text-anchor=\"middle\" x=\"446\" y=\"-37.8\" font-family=\"Helvetica,sans-Serif\" font-size=\"14.00\">Impurity: 0.22</text>\n<text text-anchor=\"middle\" x=\"446\" y=\"-22.8\" font-family=\"Helvetica,sans-Serif\" font-size=\"14.00\">Impurity Reduction: 0.00</text>\n<text text-anchor=\"middle\" x=\"446\" y=\"-7.8\" font-family=\"Helvetica,sans-Serif\" font-size=\"14.00\">Custom Metric: 0.47</text>\n</g>\n<!-- 5&#45;&gt;6 -->\n<g id=\"edge7\" class=\"edge\">\n<title>5&#45;&gt;6</title>\n<path fill=\"none\" stroke=\"black\" d=\"M470.42,-148.9C467.1,-135.45 463.61,-121.31 460.33,-108.06\"/>\n<polygon fill=\"black\" stroke=\"black\" points=\"463.68,-106.99 457.88,-98.12 456.88,-108.67 463.68,-106.99\"/>\n<text text-anchor=\"middle\" x=\"477\" y=\"-119.8\" font-family=\"Helvetica,sans-Serif\" font-size=\"14.00\">yes</text>\n</g>\n<!-- 7 -->\n<g id=\"node9\" class=\"node\">\n<title>7</title>\n<polygon fill=\"#08478d\" stroke=\"black\" points=\"710,-98 546,-98 546,0 710,0 710,-98\"/>\n<text text-anchor=\"middle\" x=\"628\" y=\"-82.8\" font-family=\"Helvetica,sans-Serif\" font-size=\"14.00\">Node 7</text>\n<text text-anchor=\"middle\" x=\"628\" y=\"-67.8\" font-family=\"Helvetica,sans-Serif\" font-size=\"14.00\">Samples: 18</text>\n<text text-anchor=\"middle\" x=\"628\" y=\"-52.8\" font-family=\"Helvetica,sans-Serif\" font-size=\"14.00\">Value: [10. 19.]</text>\n<text text-anchor=\"middle\" x=\"628\" y=\"-37.8\" font-family=\"Helvetica,sans-Serif\" font-size=\"14.00\">Impurity: 0.45</text>\n<text text-anchor=\"middle\" x=\"628\" y=\"-22.8\" font-family=\"Helvetica,sans-Serif\" font-size=\"14.00\">Impurity Reduction: 0.00</text>\n<text text-anchor=\"middle\" x=\"628\" y=\"-7.8\" font-family=\"Helvetica,sans-Serif\" font-size=\"14.00\">Custom Metric: 0.07</text>\n</g>\n<!-- 5&#45;&gt;7 -->\n<g id=\"edge8\" class=\"edge\">\n<title>5&#45;&gt;7</title>\n<path fill=\"none\" stroke=\"black\" d=\"M541.31,-148.9C553.79,-134.66 566.96,-119.64 579.15,-105.73\"/>\n<polygon fill=\"black\" stroke=\"black\" points=\"581.86,-107.95 585.82,-98.12 576.6,-103.34 581.86,-107.95\"/>\n<text text-anchor=\"middle\" x=\"578\" y=\"-119.8\" font-family=\"Helvetica,sans-Serif\" font-size=\"14.00\">no</text>\n</g>\n<!-- 10 -->\n<g id=\"node12\" class=\"node\">\n<title>10</title>\n<polygon fill=\"#125da6\" stroke=\"black\" points=\"892,-98 728,-98 728,0 892,0 892,-98\"/>\n<text text-anchor=\"middle\" x=\"810\" y=\"-82.8\" font-family=\"Helvetica,sans-Serif\" font-size=\"14.00\">Node 10</text>\n<text text-anchor=\"middle\" x=\"810\" y=\"-67.8\" font-family=\"Helvetica,sans-Serif\" font-size=\"14.00\">Samples: 20</text>\n<text text-anchor=\"middle\" x=\"810\" y=\"-52.8\" font-family=\"Helvetica,sans-Serif\" font-size=\"14.00\">Value: [10. 25.]</text>\n<text text-anchor=\"middle\" x=\"810\" y=\"-37.8\" font-family=\"Helvetica,sans-Serif\" font-size=\"14.00\">Impurity: 0.41</text>\n<text text-anchor=\"middle\" x=\"810\" y=\"-22.8\" font-family=\"Helvetica,sans-Serif\" font-size=\"14.00\">Impurity Reduction: 0.00</text>\n<text text-anchor=\"middle\" x=\"810\" y=\"-7.8\" font-family=\"Helvetica,sans-Serif\" font-size=\"14.00\">Custom Metric: 0.99</text>\n</g>\n<!-- 9&#45;&gt;10 -->\n<g id=\"edge11\" class=\"edge\">\n<title>9&#45;&gt;10</title>\n<path fill=\"none\" stroke=\"black\" d=\"M858.84,-148.9C852.07,-135.19 844.94,-120.75 838.28,-107.28\"/>\n<polygon fill=\"black\" stroke=\"black\" points=\"841.33,-105.54 833.76,-98.12 835.05,-108.64 841.33,-105.54\"/>\n<text text-anchor=\"middle\" x=\"861\" y=\"-119.8\" font-family=\"Helvetica,sans-Serif\" font-size=\"14.00\">yes</text>\n</g>\n<!-- 11 -->\n<g id=\"node13\" class=\"node\">\n<title>11</title>\n<polygon fill=\"#c3daee\" stroke=\"black\" points=\"1074,-98 910,-98 910,0 1074,0 1074,-98\"/>\n<text text-anchor=\"middle\" x=\"992\" y=\"-82.8\" font-family=\"Helvetica,sans-Serif\" font-size=\"14.00\">Node 11</text>\n<text text-anchor=\"middle\" x=\"992\" y=\"-67.8\" font-family=\"Helvetica,sans-Serif\" font-size=\"14.00\">Samples: 18</text>\n<text text-anchor=\"middle\" x=\"992\" y=\"-52.8\" font-family=\"Helvetica,sans-Serif\" font-size=\"14.00\">Value: [27. &#160;2.]</text>\n<text text-anchor=\"middle\" x=\"992\" y=\"-37.8\" font-family=\"Helvetica,sans-Serif\" font-size=\"14.00\">Impurity: 0.13</text>\n<text text-anchor=\"middle\" x=\"992\" y=\"-22.8\" font-family=\"Helvetica,sans-Serif\" font-size=\"14.00\">Impurity Reduction: 0.00</text>\n<text text-anchor=\"middle\" x=\"992\" y=\"-7.8\" font-family=\"Helvetica,sans-Serif\" font-size=\"14.00\">Custom Metric: 0.50</text>\n</g>\n<!-- 9&#45;&gt;11 -->\n<g id=\"edge12\" class=\"edge\">\n<title>9&#45;&gt;11</title>\n<path fill=\"none\" stroke=\"black\" d=\"M929.73,-148.9C938.45,-135.06 947.63,-120.47 956.18,-106.89\"/>\n<polygon fill=\"black\" stroke=\"black\" points=\"959.33,-108.45 961.7,-98.12 953.41,-104.72 959.33,-108.45\"/>\n<text text-anchor=\"middle\" x=\"959\" y=\"-119.8\" font-family=\"Helvetica,sans-Serif\" font-size=\"14.00\">no</text>\n</g>\n<!-- 13 -->\n<g id=\"node14\" class=\"node\">\n<title>13</title>\n<polygon fill=\"#083776\" stroke=\"black\" points=\"1256,-98 1092,-98 1092,0 1256,0 1256,-98\"/>\n<text text-anchor=\"middle\" x=\"1174\" y=\"-82.8\" font-family=\"Helvetica,sans-Serif\" font-size=\"14.00\">Node 13</text>\n<text text-anchor=\"middle\" x=\"1174\" y=\"-67.8\" font-family=\"Helvetica,sans-Serif\" font-size=\"14.00\">Samples: 2</text>\n<text text-anchor=\"middle\" x=\"1174\" y=\"-52.8\" font-family=\"Helvetica,sans-Serif\" font-size=\"14.00\">Value: [2. 3.]</text>\n<text text-anchor=\"middle\" x=\"1174\" y=\"-37.8\" font-family=\"Helvetica,sans-Serif\" font-size=\"14.00\">Impurity: 0.48</text>\n<text text-anchor=\"middle\" x=\"1174\" y=\"-22.8\" font-family=\"Helvetica,sans-Serif\" font-size=\"14.00\">Impurity Reduction: 0.00</text>\n<text text-anchor=\"middle\" x=\"1174\" y=\"-7.8\" font-family=\"Helvetica,sans-Serif\" font-size=\"14.00\">Custom Metric: 0.27</text>\n</g>\n<!-- 12&#45;&gt;13 -->\n<g id=\"edge13\" class=\"edge\">\n<title>12&#45;&gt;13</title>\n<path fill=\"none\" stroke=\"black\" d=\"M1174,-148.9C1174,-135.58 1174,-121.58 1174,-108.45\"/>\n<polygon fill=\"black\" stroke=\"black\" points=\"1177.5,-108.12 1174,-98.12 1170.5,-108.12 1177.5,-108.12\"/>\n<text text-anchor=\"middle\" x=\"1185\" y=\"-119.8\" font-family=\"Helvetica,sans-Serif\" font-size=\"14.00\">yes</text>\n</g>\n<!-- 14 -->\n<g id=\"node15\" class=\"node\">\n<title>14</title>\n<polygon fill=\"#d3e4f3\" stroke=\"black\" points=\"1438,-98 1274,-98 1274,0 1438,0 1438,-98\"/>\n<text text-anchor=\"middle\" x=\"1356\" y=\"-82.8\" font-family=\"Helvetica,sans-Serif\" font-size=\"14.00\">Node 14</text>\n<text text-anchor=\"middle\" x=\"1356\" y=\"-67.8\" font-family=\"Helvetica,sans-Serif\" font-size=\"14.00\">Samples: 36</text>\n<text text-anchor=\"middle\" x=\"1356\" y=\"-52.8\" font-family=\"Helvetica,sans-Serif\" font-size=\"14.00\">Value: [ 3. 61.]</text>\n<text text-anchor=\"middle\" x=\"1356\" y=\"-37.8\" font-family=\"Helvetica,sans-Serif\" font-size=\"14.00\">Impurity: 0.09</text>\n<text text-anchor=\"middle\" x=\"1356\" y=\"-22.8\" font-family=\"Helvetica,sans-Serif\" font-size=\"14.00\">Impurity Reduction: 0.00</text>\n<text text-anchor=\"middle\" x=\"1356\" y=\"-7.8\" font-family=\"Helvetica,sans-Serif\" font-size=\"14.00\">Custom Metric: 0.75</text>\n</g>\n<!-- 12&#45;&gt;14 -->\n<g id=\"edge14\" class=\"edge\">\n<title>12&#45;&gt;14</title>\n<path fill=\"none\" stroke=\"black\" d=\"M1244.89,-148.9C1261.18,-134.4 1278.39,-119.08 1294.26,-104.95\"/>\n<polygon fill=\"black\" stroke=\"black\" points=\"1296.79,-107.39 1301.94,-98.12 1292.14,-102.16 1296.79,-107.39\"/>\n<text text-anchor=\"middle\" x=\"1289\" y=\"-119.8\" font-family=\"Helvetica,sans-Serif\" font-size=\"14.00\">no</text>\n</g>\n</g>\n</svg>\n",
            "text/plain": [
              "<graphviz.sources.Source at 0x7e8b0c4f5720>"
            ]
          },
          "metadata": {},
          "execution_count": 12
        }
      ]
    },
    {
      "cell_type": "markdown",
      "source": [
        "# Display Tree for Regressor"
      ],
      "metadata": {
        "id": "M2MYuK-mCHHd"
      }
    },
    {
      "cell_type": "code",
      "source": [
        "# Import the data from imodels\n",
        "from imodels.util.data_util import get_clean_dataset\n",
        "X, y, feature_names = get_clean_dataset('credit_g')\n",
        "\n",
        "model = CustomRandomForestRegressor(n_estimators=3, max_depth=3)\n",
        "model.fit(X, y)\n",
        "\n",
        "charts = Charts()\n",
        "graph = charts.plot_tree(model, feature_names, y)\n",
        "graph\n",
        "\n",
        "\n",
        "# '''\n",
        "# This will work also for scikit-learn RF, DT:\n",
        "# -------------------------------------------\n",
        "# >>>> model = RandomForestRegressor(n_estimators=3, max_depth=3)\n",
        "# >>>> model.fit(X, y)\n",
        "\n",
        "# >>>> charts = Charts()\n",
        "# >>>> graph = charts.plot_tree(model, feature_names, y)\n",
        "# >>>> graph\n",
        "# '''"
      ],
      "metadata": {
        "colab": {
          "base_uri": "https://localhost:8080/",
          "height": 916
        },
        "id": "6D_0ATk3A9aB",
        "outputId": "1fd8ede3-5bcf-40a0-aaa8-681c3addbf77"
      },
      "execution_count": 13,
      "outputs": [
        {
          "output_type": "stream",
          "name": "stdout",
          "text": [
            "fetching credit_g from imodels\n"
          ]
        },
        {
          "output_type": "execute_result",
          "data": {
            "image/svg+xml": "<?xml version=\"1.0\" encoding=\"UTF-8\" standalone=\"no\"?>\n<!DOCTYPE svg PUBLIC \"-//W3C//DTD SVG 1.1//EN\"\n \"http://www.w3.org/Graphics/SVG/1.1/DTD/svg11.dtd\">\n<!-- Generated by graphviz version 2.43.0 (0)\n -->\n<!-- Title: Tree Pages: 1 -->\n<svg width=\"1446pt\" height=\"643pt\"\n viewBox=\"0.00 0.00 1446.00 643.00\" xmlns=\"http://www.w3.org/2000/svg\" xmlns:xlink=\"http://www.w3.org/1999/xlink\">\n<g id=\"graph0\" class=\"graph\" transform=\"scale(1 1) rotate(0) translate(4 639)\">\n<title>Tree</title>\n<polygon fill=\"white\" stroke=\"transparent\" points=\"-4,4 -4,-639 1442,-639 1442,4 -4,4\"/>\n<!-- 0 -->\n<g id=\"node1\" class=\"node\">\n<title>0</title>\n<polygon fill=\"#0b559f\" stroke=\"black\" points=\"772,-635 578,-635 578,-507 772,-507 772,-635\"/>\n<text text-anchor=\"middle\" x=\"675\" y=\"-619.8\" font-family=\"Helvetica,sans-Serif\" font-size=\"14.00\">Node 0</text>\n<text text-anchor=\"middle\" x=\"675\" y=\"-604.8\" font-family=\"Helvetica,sans-Serif\" font-size=\"14.00\">Samples: 630</text>\n<text text-anchor=\"middle\" x=\"675\" y=\"-589.8\" font-family=\"Helvetica,sans-Serif\" font-size=\"14.00\">Value: [0.688]</text>\n<text text-anchor=\"middle\" x=\"675\" y=\"-574.8\" font-family=\"Helvetica,sans-Serif\" font-size=\"14.00\">Impurity: 0.21</text>\n<text text-anchor=\"middle\" x=\"675\" y=\"-559.8\" font-family=\"Helvetica,sans-Serif\" font-size=\"14.00\">Impurity Reduction: 0.02</text>\n<text text-anchor=\"middle\" x=\"675\" y=\"-544.8\" font-family=\"Helvetica,sans-Serif\" font-size=\"14.00\">Custom Metric: 0.34</text>\n<text text-anchor=\"middle\" x=\"675\" y=\"-529.8\" font-family=\"Helvetica,sans-Serif\" font-size=\"14.00\">Feature: checking_status_3.0</text>\n<text text-anchor=\"middle\" x=\"675\" y=\"-514.8\" font-family=\"Helvetica,sans-Serif\" font-size=\"14.00\">Threshold: 0.50</text>\n</g>\n<!-- 1 -->\n<g id=\"node2\" class=\"node\">\n<title>1</title>\n<polygon fill=\"#083471\" stroke=\"black\" points=\"586,-456 422,-456 422,-328 586,-328 586,-456\"/>\n<text text-anchor=\"middle\" x=\"504\" y=\"-440.8\" font-family=\"Helvetica,sans-Serif\" font-size=\"14.00\">Node 1</text>\n<text text-anchor=\"middle\" x=\"504\" y=\"-425.8\" font-family=\"Helvetica,sans-Serif\" font-size=\"14.00\">Samples: 378</text>\n<text text-anchor=\"middle\" x=\"504\" y=\"-410.8\" font-family=\"Helvetica,sans-Serif\" font-size=\"14.00\">Value: [0.56372549]</text>\n<text text-anchor=\"middle\" x=\"504\" y=\"-395.8\" font-family=\"Helvetica,sans-Serif\" font-size=\"14.00\">Impurity: 0.25</text>\n<text text-anchor=\"middle\" x=\"504\" y=\"-380.8\" font-family=\"Helvetica,sans-Serif\" font-size=\"14.00\">Impurity Reduction: 0.02</text>\n<text text-anchor=\"middle\" x=\"504\" y=\"-365.8\" font-family=\"Helvetica,sans-Serif\" font-size=\"14.00\">Custom Metric: 0.02</text>\n<text text-anchor=\"middle\" x=\"504\" y=\"-350.8\" font-family=\"Helvetica,sans-Serif\" font-size=\"14.00\">Feature: duration</text>\n<text text-anchor=\"middle\" x=\"504\" y=\"-335.8\" font-family=\"Helvetica,sans-Serif\" font-size=\"14.00\">Threshold: 11.50</text>\n</g>\n<!-- 0&#45;&gt;1 -->\n<g id=\"edge1\" class=\"edge\">\n<title>0&#45;&gt;1</title>\n<path fill=\"none\" stroke=\"black\" d=\"M613.75,-506.6C600.28,-492.66 585.94,-477.82 572.22,-463.62\"/>\n<polygon fill=\"black\" stroke=\"black\" points=\"574.58,-461.02 565.11,-456.26 569.54,-465.88 574.58,-461.02\"/>\n<text text-anchor=\"middle\" x=\"606\" y=\"-477.8\" font-family=\"Helvetica,sans-Serif\" font-size=\"14.00\">yes</text>\n</g>\n<!-- 8 -->\n<g id=\"node3\" class=\"node\">\n<title>8</title>\n<polygon fill=\"#91c3de\" stroke=\"black\" points=\"1003.5,-456 776.5,-456 776.5,-328 1003.5,-328 1003.5,-456\"/>\n<text text-anchor=\"middle\" x=\"890\" y=\"-440.8\" font-family=\"Helvetica,sans-Serif\" font-size=\"14.00\">Node 8</text>\n<text text-anchor=\"middle\" x=\"890\" y=\"-425.8\" font-family=\"Helvetica,sans-Serif\" font-size=\"14.00\">Samples: 252</text>\n<text text-anchor=\"middle\" x=\"890\" y=\"-410.8\" font-family=\"Helvetica,sans-Serif\" font-size=\"14.00\">Value: [0.88402062]</text>\n<text text-anchor=\"middle\" x=\"890\" y=\"-395.8\" font-family=\"Helvetica,sans-Serif\" font-size=\"14.00\">Impurity: 0.10</text>\n<text text-anchor=\"middle\" x=\"890\" y=\"-380.8\" font-family=\"Helvetica,sans-Serif\" font-size=\"14.00\">Impurity Reduction: 0.00</text>\n<text text-anchor=\"middle\" x=\"890\" y=\"-365.8\" font-family=\"Helvetica,sans-Serif\" font-size=\"14.00\">Custom Metric: 0.95</text>\n<text text-anchor=\"middle\" x=\"890\" y=\"-350.8\" font-family=\"Helvetica,sans-Serif\" font-size=\"14.00\">Feature: other_payment_plans_0.0</text>\n<text text-anchor=\"middle\" x=\"890\" y=\"-335.8\" font-family=\"Helvetica,sans-Serif\" font-size=\"14.00\">Threshold: 0.50</text>\n</g>\n<!-- 0&#45;&gt;8 -->\n<g id=\"edge2\" class=\"edge\">\n<title>0&#45;&gt;8</title>\n<path fill=\"none\" stroke=\"black\" d=\"M751.71,-506.85C769.07,-492.56 787.6,-477.3 805.27,-462.75\"/>\n<polygon fill=\"black\" stroke=\"black\" points=\"807.82,-465.19 813.32,-456.13 803.38,-459.78 807.82,-465.19\"/>\n<text text-anchor=\"middle\" x=\"797\" y=\"-477.8\" font-family=\"Helvetica,sans-Serif\" font-size=\"14.00\">no</text>\n</g>\n<!-- 2 -->\n<g id=\"node4\" class=\"node\">\n<title>2</title>\n<polygon fill=\"#57a0ce\" stroke=\"black\" points=\"352.5,-277 175.5,-277 175.5,-149 352.5,-149 352.5,-277\"/>\n<text text-anchor=\"middle\" x=\"264\" y=\"-261.8\" font-family=\"Helvetica,sans-Serif\" font-size=\"14.00\">Node 2</text>\n<text text-anchor=\"middle\" x=\"264\" y=\"-246.8\" font-family=\"Helvetica,sans-Serif\" font-size=\"14.00\">Samples: 70</text>\n<text text-anchor=\"middle\" x=\"264\" y=\"-231.8\" font-family=\"Helvetica,sans-Serif\" font-size=\"14.00\">Value: [0.83185841]</text>\n<text text-anchor=\"middle\" x=\"264\" y=\"-216.8\" font-family=\"Helvetica,sans-Serif\" font-size=\"14.00\">Impurity: 0.14</text>\n<text text-anchor=\"middle\" x=\"264\" y=\"-201.8\" font-family=\"Helvetica,sans-Serif\" font-size=\"14.00\">Impurity Reduction: 0.03</text>\n<text text-anchor=\"middle\" x=\"264\" y=\"-186.8\" font-family=\"Helvetica,sans-Serif\" font-size=\"14.00\">Custom Metric: 0.38</text>\n<text text-anchor=\"middle\" x=\"264\" y=\"-171.8\" font-family=\"Helvetica,sans-Serif\" font-size=\"14.00\">Feature: credit_history_1.0</text>\n<text text-anchor=\"middle\" x=\"264\" y=\"-156.8\" font-family=\"Helvetica,sans-Serif\" font-size=\"14.00\">Threshold: 0.50</text>\n</g>\n<!-- 1&#45;&gt;2 -->\n<g id=\"edge3\" class=\"edge\">\n<title>1&#45;&gt;2</title>\n<path fill=\"none\" stroke=\"black\" d=\"M421.74,-330.33C401.26,-315.23 379.14,-298.91 358.13,-283.42\"/>\n<polygon fill=\"black\" stroke=\"black\" points=\"359.96,-280.42 349.83,-277.3 355.8,-286.05 359.96,-280.42\"/>\n<text text-anchor=\"middle\" x=\"403\" y=\"-298.8\" font-family=\"Helvetica,sans-Serif\" font-size=\"14.00\">yes</text>\n</g>\n<!-- 5 -->\n<g id=\"node5\" class=\"node\">\n<title>5</title>\n<polygon fill=\"#08306b\" stroke=\"black\" points=\"601,-277 407,-277 407,-149 601,-149 601,-277\"/>\n<text text-anchor=\"middle\" x=\"504\" y=\"-261.8\" font-family=\"Helvetica,sans-Serif\" font-size=\"14.00\">Node 5</text>\n<text text-anchor=\"middle\" x=\"504\" y=\"-246.8\" font-family=\"Helvetica,sans-Serif\" font-size=\"14.00\">Samples: 308</text>\n<text text-anchor=\"middle\" x=\"504\" y=\"-231.8\" font-family=\"Helvetica,sans-Serif\" font-size=\"14.00\">Value: [0.50300601]</text>\n<text text-anchor=\"middle\" x=\"504\" y=\"-216.8\" font-family=\"Helvetica,sans-Serif\" font-size=\"14.00\">Impurity: 0.25</text>\n<text text-anchor=\"middle\" x=\"504\" y=\"-201.8\" font-family=\"Helvetica,sans-Serif\" font-size=\"14.00\">Impurity Reduction: 0.01</text>\n<text text-anchor=\"middle\" x=\"504\" y=\"-186.8\" font-family=\"Helvetica,sans-Serif\" font-size=\"14.00\">Custom Metric: 0.97</text>\n<text text-anchor=\"middle\" x=\"504\" y=\"-171.8\" font-family=\"Helvetica,sans-Serif\" font-size=\"14.00\">Feature: checking_status_0.0</text>\n<text text-anchor=\"middle\" x=\"504\" y=\"-156.8\" font-family=\"Helvetica,sans-Serif\" font-size=\"14.00\">Threshold: 0.50</text>\n</g>\n<!-- 1&#45;&gt;5 -->\n<g id=\"edge4\" class=\"edge\">\n<title>1&#45;&gt;5</title>\n<path fill=\"none\" stroke=\"black\" d=\"M504,-327.6C504,-314.56 504,-300.72 504,-287.36\"/>\n<polygon fill=\"black\" stroke=\"black\" points=\"507.5,-287.26 504,-277.26 500.5,-287.26 507.5,-287.26\"/>\n<text text-anchor=\"middle\" x=\"512\" y=\"-298.8\" font-family=\"Helvetica,sans-Serif\" font-size=\"14.00\">no</text>\n</g>\n<!-- 9 -->\n<g id=\"node10\" class=\"node\">\n<title>9</title>\n<polygon fill=\"#aed1e7\" stroke=\"black\" points=\"972,-277 808,-277 808,-149 972,-149 972,-277\"/>\n<text text-anchor=\"middle\" x=\"890\" y=\"-261.8\" font-family=\"Helvetica,sans-Serif\" font-size=\"14.00\">Node 9</text>\n<text text-anchor=\"middle\" x=\"890\" y=\"-246.8\" font-family=\"Helvetica,sans-Serif\" font-size=\"14.00\">Samples: 222</text>\n<text text-anchor=\"middle\" x=\"890\" y=\"-231.8\" font-family=\"Helvetica,sans-Serif\" font-size=\"14.00\">Value: [0.91097923]</text>\n<text text-anchor=\"middle\" x=\"890\" y=\"-216.8\" font-family=\"Helvetica,sans-Serif\" font-size=\"14.00\">Impurity: 0.08</text>\n<text text-anchor=\"middle\" x=\"890\" y=\"-201.8\" font-family=\"Helvetica,sans-Serif\" font-size=\"14.00\">Impurity Reduction: 0.00</text>\n<text text-anchor=\"middle\" x=\"890\" y=\"-186.8\" font-family=\"Helvetica,sans-Serif\" font-size=\"14.00\">Custom Metric: 0.90</text>\n<text text-anchor=\"middle\" x=\"890\" y=\"-171.8\" font-family=\"Helvetica,sans-Serif\" font-size=\"14.00\">Feature: job_3.0</text>\n<text text-anchor=\"middle\" x=\"890\" y=\"-156.8\" font-family=\"Helvetica,sans-Serif\" font-size=\"14.00\">Threshold: 0.50</text>\n</g>\n<!-- 8&#45;&gt;9 -->\n<g id=\"edge9\" class=\"edge\">\n<title>8&#45;&gt;9</title>\n<path fill=\"none\" stroke=\"black\" d=\"M890,-327.6C890,-314.56 890,-300.72 890,-287.36\"/>\n<polygon fill=\"black\" stroke=\"black\" points=\"893.5,-287.26 890,-277.26 886.5,-287.26 893.5,-287.26\"/>\n<text text-anchor=\"middle\" x=\"901\" y=\"-298.8\" font-family=\"Helvetica,sans-Serif\" font-size=\"14.00\">yes</text>\n</g>\n<!-- 12 -->\n<g id=\"node11\" class=\"node\">\n<title>12</title>\n<polygon fill=\"#115ca5\" stroke=\"black\" points=\"1256,-277 1092,-277 1092,-149 1256,-149 1256,-277\"/>\n<text text-anchor=\"middle\" x=\"1174\" y=\"-261.8\" font-family=\"Helvetica,sans-Serif\" font-size=\"14.00\">Node 12</text>\n<text text-anchor=\"middle\" x=\"1174\" y=\"-246.8\" font-family=\"Helvetica,sans-Serif\" font-size=\"14.00\">Samples: 30</text>\n<text text-anchor=\"middle\" x=\"1174\" y=\"-231.8\" font-family=\"Helvetica,sans-Serif\" font-size=\"14.00\">Value: [0.70588235]</text>\n<text text-anchor=\"middle\" x=\"1174\" y=\"-216.8\" font-family=\"Helvetica,sans-Serif\" font-size=\"14.00\">Impurity: 0.21</text>\n<text text-anchor=\"middle\" x=\"1174\" y=\"-201.8\" font-family=\"Helvetica,sans-Serif\" font-size=\"14.00\">Impurity Reduction: 0.06</text>\n<text text-anchor=\"middle\" x=\"1174\" y=\"-186.8\" font-family=\"Helvetica,sans-Serif\" font-size=\"14.00\">Custom Metric: 0.57</text>\n<text text-anchor=\"middle\" x=\"1174\" y=\"-171.8\" font-family=\"Helvetica,sans-Serif\" font-size=\"14.00\">Feature: purpose_9.0</text>\n<text text-anchor=\"middle\" x=\"1174\" y=\"-156.8\" font-family=\"Helvetica,sans-Serif\" font-size=\"14.00\">Threshold: 0.50</text>\n</g>\n<!-- 8&#45;&gt;12 -->\n<g id=\"edge10\" class=\"edge\">\n<title>8&#45;&gt;12</title>\n<path fill=\"none\" stroke=\"black\" d=\"M991.33,-327.85C1021.34,-309.14 1054,-288.79 1083.29,-270.53\"/>\n<polygon fill=\"black\" stroke=\"black\" points=\"1085.23,-273.45 1091.87,-265.19 1081.53,-267.51 1085.23,-273.45\"/>\n<text text-anchor=\"middle\" x=\"1049\" y=\"-298.8\" font-family=\"Helvetica,sans-Serif\" font-size=\"14.00\">no</text>\n</g>\n<!-- 3 -->\n<g id=\"node6\" class=\"node\">\n<title>3</title>\n<polygon fill=\"#75b4d8\" stroke=\"black\" points=\"164,-98 0,-98 0,0 164,0 164,-98\"/>\n<text text-anchor=\"middle\" x=\"82\" y=\"-82.8\" font-family=\"Helvetica,sans-Serif\" font-size=\"14.00\">Node 3</text>\n<text text-anchor=\"middle\" x=\"82\" y=\"-67.8\" font-family=\"Helvetica,sans-Serif\" font-size=\"14.00\">Samples: 68</text>\n<text text-anchor=\"middle\" x=\"82\" y=\"-52.8\" font-family=\"Helvetica,sans-Serif\" font-size=\"14.00\">Value: [0.86238532]</text>\n<text text-anchor=\"middle\" x=\"82\" y=\"-37.8\" font-family=\"Helvetica,sans-Serif\" font-size=\"14.00\">Impurity: 0.12</text>\n<text text-anchor=\"middle\" x=\"82\" y=\"-22.8\" font-family=\"Helvetica,sans-Serif\" font-size=\"14.00\">Impurity Reduction: 0.00</text>\n<text text-anchor=\"middle\" x=\"82\" y=\"-7.8\" font-family=\"Helvetica,sans-Serif\" font-size=\"14.00\">Custom Metric: 0.77</text>\n</g>\n<!-- 2&#45;&gt;3 -->\n<g id=\"edge5\" class=\"edge\">\n<title>2&#45;&gt;3</title>\n<path fill=\"none\" stroke=\"black\" d=\"M193.11,-148.9C176.82,-134.4 159.61,-119.08 143.74,-104.95\"/>\n<polygon fill=\"black\" stroke=\"black\" points=\"145.86,-102.16 136.06,-98.12 141.21,-107.39 145.86,-102.16\"/>\n<text text-anchor=\"middle\" x=\"184\" y=\"-119.8\" font-family=\"Helvetica,sans-Serif\" font-size=\"14.00\">yes</text>\n</g>\n<!-- 4 -->\n<g id=\"node7\" class=\"node\">\n<title>4</title>\n<polygon fill=\"#f7fbff\" stroke=\"black\" points=\"346,-98 182,-98 182,0 346,0 346,-98\"/>\n<text text-anchor=\"middle\" x=\"264\" y=\"-82.8\" font-family=\"Helvetica,sans-Serif\" font-size=\"14.00\">Node 4</text>\n<text text-anchor=\"middle\" x=\"264\" y=\"-67.8\" font-family=\"Helvetica,sans-Serif\" font-size=\"14.00\">Samples: 2</text>\n<text text-anchor=\"middle\" x=\"264\" y=\"-52.8\" font-family=\"Helvetica,sans-Serif\" font-size=\"14.00\">Value: [0.]</text>\n<text text-anchor=\"middle\" x=\"264\" y=\"-37.8\" font-family=\"Helvetica,sans-Serif\" font-size=\"14.00\">Impurity: 0.00</text>\n<text text-anchor=\"middle\" x=\"264\" y=\"-22.8\" font-family=\"Helvetica,sans-Serif\" font-size=\"14.00\">Impurity Reduction: 0.00</text>\n<text text-anchor=\"middle\" x=\"264\" y=\"-7.8\" font-family=\"Helvetica,sans-Serif\" font-size=\"14.00\">Custom Metric: 0.62</text>\n</g>\n<!-- 2&#45;&gt;4 -->\n<g id=\"edge6\" class=\"edge\">\n<title>2&#45;&gt;4</title>\n<path fill=\"none\" stroke=\"black\" d=\"M264,-148.9C264,-135.58 264,-121.58 264,-108.45\"/>\n<polygon fill=\"black\" stroke=\"black\" points=\"267.5,-108.12 264,-98.12 260.5,-108.12 267.5,-108.12\"/>\n<text text-anchor=\"middle\" x=\"272\" y=\"-119.8\" font-family=\"Helvetica,sans-Serif\" font-size=\"14.00\">no</text>\n</g>\n<!-- 6 -->\n<g id=\"node8\" class=\"node\">\n<title>6</title>\n<polygon fill=\"#083776\" stroke=\"black\" points=\"528,-98 364,-98 364,0 528,0 528,-98\"/>\n<text text-anchor=\"middle\" x=\"446\" y=\"-82.8\" font-family=\"Helvetica,sans-Serif\" font-size=\"14.00\">Node 6</text>\n<text text-anchor=\"middle\" x=\"446\" y=\"-67.8\" font-family=\"Helvetica,sans-Serif\" font-size=\"14.00\">Samples: 165</text>\n<text text-anchor=\"middle\" x=\"446\" y=\"-52.8\" font-family=\"Helvetica,sans-Serif\" font-size=\"14.00\">Value: [0.58671587]</text>\n<text text-anchor=\"middle\" x=\"446\" y=\"-37.8\" font-family=\"Helvetica,sans-Serif\" font-size=\"14.00\">Impurity: 0.24</text>\n<text text-anchor=\"middle\" x=\"446\" y=\"-22.8\" font-family=\"Helvetica,sans-Serif\" font-size=\"14.00\">Impurity Reduction: 0.00</text>\n<text text-anchor=\"middle\" x=\"446\" y=\"-7.8\" font-family=\"Helvetica,sans-Serif\" font-size=\"14.00\">Custom Metric: 0.92</text>\n</g>\n<!-- 5&#45;&gt;6 -->\n<g id=\"edge7\" class=\"edge\">\n<title>5&#45;&gt;6</title>\n<path fill=\"none\" stroke=\"black\" d=\"M481.41,-148.9C476.55,-135.32 471.43,-121.03 466.65,-107.67\"/>\n<polygon fill=\"black\" stroke=\"black\" points=\"469.89,-106.36 463.23,-98.12 463.3,-108.72 469.89,-106.36\"/>\n<text text-anchor=\"middle\" x=\"486\" y=\"-119.8\" font-family=\"Helvetica,sans-Serif\" font-size=\"14.00\">yes</text>\n</g>\n<!-- 7 -->\n<g id=\"node9\" class=\"node\">\n<title>7</title>\n<polygon fill=\"#083979\" stroke=\"black\" points=\"710,-98 546,-98 546,0 710,0 710,-98\"/>\n<text text-anchor=\"middle\" x=\"628\" y=\"-82.8\" font-family=\"Helvetica,sans-Serif\" font-size=\"14.00\">Node 7</text>\n<text text-anchor=\"middle\" x=\"628\" y=\"-67.8\" font-family=\"Helvetica,sans-Serif\" font-size=\"14.00\">Samples: 143</text>\n<text text-anchor=\"middle\" x=\"628\" y=\"-52.8\" font-family=\"Helvetica,sans-Serif\" font-size=\"14.00\">Value: [0.40350877]</text>\n<text text-anchor=\"middle\" x=\"628\" y=\"-37.8\" font-family=\"Helvetica,sans-Serif\" font-size=\"14.00\">Impurity: 0.24</text>\n<text text-anchor=\"middle\" x=\"628\" y=\"-22.8\" font-family=\"Helvetica,sans-Serif\" font-size=\"14.00\">Impurity Reduction: 0.00</text>\n<text text-anchor=\"middle\" x=\"628\" y=\"-7.8\" font-family=\"Helvetica,sans-Serif\" font-size=\"14.00\">Custom Metric: 0.49</text>\n</g>\n<!-- 5&#45;&gt;7 -->\n<g id=\"edge8\" class=\"edge\">\n<title>5&#45;&gt;7</title>\n<path fill=\"none\" stroke=\"black\" d=\"M552.3,-148.9C563.1,-134.79 574.48,-119.92 585.05,-106.11\"/>\n<polygon fill=\"black\" stroke=\"black\" points=\"587.87,-108.19 591.17,-98.12 582.31,-103.94 587.87,-108.19\"/>\n<text text-anchor=\"middle\" x=\"586\" y=\"-119.8\" font-family=\"Helvetica,sans-Serif\" font-size=\"14.00\">no</text>\n</g>\n<!-- 10 -->\n<g id=\"node12\" class=\"node\">\n<title>10</title>\n<polygon fill=\"#c2d9ee\" stroke=\"black\" points=\"892,-98 728,-98 728,0 892,0 892,-98\"/>\n<text text-anchor=\"middle\" x=\"810\" y=\"-82.8\" font-family=\"Helvetica,sans-Serif\" font-size=\"14.00\">Node 10</text>\n<text text-anchor=\"middle\" x=\"810\" y=\"-67.8\" font-family=\"Helvetica,sans-Serif\" font-size=\"14.00\">Samples: 195</text>\n<text text-anchor=\"middle\" x=\"810\" y=\"-52.8\" font-family=\"Helvetica,sans-Serif\" font-size=\"14.00\">Value: [0.9295302]</text>\n<text text-anchor=\"middle\" x=\"810\" y=\"-37.8\" font-family=\"Helvetica,sans-Serif\" font-size=\"14.00\">Impurity: 0.07</text>\n<text text-anchor=\"middle\" x=\"810\" y=\"-22.8\" font-family=\"Helvetica,sans-Serif\" font-size=\"14.00\">Impurity Reduction: 0.00</text>\n<text text-anchor=\"middle\" x=\"810\" y=\"-7.8\" font-family=\"Helvetica,sans-Serif\" font-size=\"14.00\">Custom Metric: 0.10</text>\n</g>\n<!-- 9&#45;&gt;10 -->\n<g id=\"edge11\" class=\"edge\">\n<title>9&#45;&gt;10</title>\n<path fill=\"none\" stroke=\"black\" d=\"M858.84,-148.9C852.07,-135.19 844.94,-120.75 838.28,-107.28\"/>\n<polygon fill=\"black\" stroke=\"black\" points=\"841.33,-105.54 833.76,-98.12 835.05,-108.64 841.33,-105.54\"/>\n<text text-anchor=\"middle\" x=\"861\" y=\"-119.8\" font-family=\"Helvetica,sans-Serif\" font-size=\"14.00\">yes</text>\n</g>\n<!-- 11 -->\n<g id=\"node13\" class=\"node\">\n<title>11</title>\n<polygon fill=\"#2c7cba\" stroke=\"black\" points=\"1074,-98 910,-98 910,0 1074,0 1074,-98\"/>\n<text text-anchor=\"middle\" x=\"992\" y=\"-82.8\" font-family=\"Helvetica,sans-Serif\" font-size=\"14.00\">Node 11</text>\n<text text-anchor=\"middle\" x=\"992\" y=\"-67.8\" font-family=\"Helvetica,sans-Serif\" font-size=\"14.00\">Samples: 27</text>\n<text text-anchor=\"middle\" x=\"992\" y=\"-52.8\" font-family=\"Helvetica,sans-Serif\" font-size=\"14.00\">Value: [0.76923077]</text>\n<text text-anchor=\"middle\" x=\"992\" y=\"-37.8\" font-family=\"Helvetica,sans-Serif\" font-size=\"14.00\">Impurity: 0.18</text>\n<text text-anchor=\"middle\" x=\"992\" y=\"-22.8\" font-family=\"Helvetica,sans-Serif\" font-size=\"14.00\">Impurity Reduction: 0.00</text>\n<text text-anchor=\"middle\" x=\"992\" y=\"-7.8\" font-family=\"Helvetica,sans-Serif\" font-size=\"14.00\">Custom Metric: 0.35</text>\n</g>\n<!-- 9&#45;&gt;11 -->\n<g id=\"edge12\" class=\"edge\">\n<title>9&#45;&gt;11</title>\n<path fill=\"none\" stroke=\"black\" d=\"M929.73,-148.9C938.45,-135.06 947.63,-120.47 956.18,-106.89\"/>\n<polygon fill=\"black\" stroke=\"black\" points=\"959.33,-108.45 961.7,-98.12 953.41,-104.72 959.33,-108.45\"/>\n<text text-anchor=\"middle\" x=\"959\" y=\"-119.8\" font-family=\"Helvetica,sans-Serif\" font-size=\"14.00\">no</text>\n</g>\n<!-- 13 -->\n<g id=\"node14\" class=\"node\">\n<title>13</title>\n<polygon fill=\"#4896c8\" stroke=\"black\" points=\"1256,-98 1092,-98 1092,0 1256,0 1256,-98\"/>\n<text text-anchor=\"middle\" x=\"1174\" y=\"-82.8\" font-family=\"Helvetica,sans-Serif\" font-size=\"14.00\">Node 13</text>\n<text text-anchor=\"middle\" x=\"1174\" y=\"-67.8\" font-family=\"Helvetica,sans-Serif\" font-size=\"14.00\">Samples: 26</text>\n<text text-anchor=\"middle\" x=\"1174\" y=\"-52.8\" font-family=\"Helvetica,sans-Serif\" font-size=\"14.00\">Value: [0.81395349]</text>\n<text text-anchor=\"middle\" x=\"1174\" y=\"-37.8\" font-family=\"Helvetica,sans-Serif\" font-size=\"14.00\">Impurity: 0.15</text>\n<text text-anchor=\"middle\" x=\"1174\" y=\"-22.8\" font-family=\"Helvetica,sans-Serif\" font-size=\"14.00\">Impurity Reduction: 0.00</text>\n<text text-anchor=\"middle\" x=\"1174\" y=\"-7.8\" font-family=\"Helvetica,sans-Serif\" font-size=\"14.00\">Custom Metric: 0.68</text>\n</g>\n<!-- 12&#45;&gt;13 -->\n<g id=\"edge13\" class=\"edge\">\n<title>12&#45;&gt;13</title>\n<path fill=\"none\" stroke=\"black\" d=\"M1174,-148.9C1174,-135.58 1174,-121.58 1174,-108.45\"/>\n<polygon fill=\"black\" stroke=\"black\" points=\"1177.5,-108.12 1174,-98.12 1170.5,-108.12 1177.5,-108.12\"/>\n<text text-anchor=\"middle\" x=\"1185\" y=\"-119.8\" font-family=\"Helvetica,sans-Serif\" font-size=\"14.00\">yes</text>\n</g>\n<!-- 14 -->\n<g id=\"node15\" class=\"node\">\n<title>14</title>\n<polygon fill=\"#84bcdb\" stroke=\"black\" points=\"1438,-98 1274,-98 1274,0 1438,0 1438,-98\"/>\n<text text-anchor=\"middle\" x=\"1356\" y=\"-82.8\" font-family=\"Helvetica,sans-Serif\" font-size=\"14.00\">Node 14</text>\n<text text-anchor=\"middle\" x=\"1356\" y=\"-67.8\" font-family=\"Helvetica,sans-Serif\" font-size=\"14.00\">Samples: 4</text>\n<text text-anchor=\"middle\" x=\"1356\" y=\"-52.8\" font-family=\"Helvetica,sans-Serif\" font-size=\"14.00\">Value: [0.125]</text>\n<text text-anchor=\"middle\" x=\"1356\" y=\"-37.8\" font-family=\"Helvetica,sans-Serif\" font-size=\"14.00\">Impurity: 0.11</text>\n<text text-anchor=\"middle\" x=\"1356\" y=\"-22.8\" font-family=\"Helvetica,sans-Serif\" font-size=\"14.00\">Impurity Reduction: 0.00</text>\n<text text-anchor=\"middle\" x=\"1356\" y=\"-7.8\" font-family=\"Helvetica,sans-Serif\" font-size=\"14.00\">Custom Metric: 0.56</text>\n</g>\n<!-- 12&#45;&gt;14 -->\n<g id=\"edge14\" class=\"edge\">\n<title>12&#45;&gt;14</title>\n<path fill=\"none\" stroke=\"black\" d=\"M1244.89,-148.9C1261.18,-134.4 1278.39,-119.08 1294.26,-104.95\"/>\n<polygon fill=\"black\" stroke=\"black\" points=\"1296.79,-107.39 1301.94,-98.12 1292.14,-102.16 1296.79,-107.39\"/>\n<text text-anchor=\"middle\" x=\"1290\" y=\"-119.8\" font-family=\"Helvetica,sans-Serif\" font-size=\"14.00\">no</text>\n</g>\n</g>\n</svg>\n",
            "text/plain": [
              "<graphviz.sources.Source at 0x7e8ac921d570>"
            ]
          },
          "metadata": {},
          "execution_count": 13
        }
      ]
    },
    {
      "cell_type": "code",
      "source": [],
      "metadata": {
        "id": "Mmd63puaDngJ"
      },
      "execution_count": 13,
      "outputs": []
    }
  ]
}