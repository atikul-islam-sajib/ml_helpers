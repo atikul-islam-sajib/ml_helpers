{
  "nbformat": 4,
  "nbformat_minor": 0,
  "metadata": {
    "colab": {
      "provenance": []
    },
    "kernelspec": {
      "name": "python3",
      "display_name": "Python 3"
    },
    "language_info": {
      "name": "python"
    }
  },
  "cells": [
    {
      "cell_type": "code",
      "execution_count": 19,
      "metadata": {
        "colab": {
          "base_uri": "https://localhost:8080/"
        },
        "id": "q7uEleNr16kC",
        "outputId": "50635fdf-6a8e-4246-d02d-06824d167ab2"
      },
      "outputs": [
        {
          "output_type": "stream",
          "name": "stdout",
          "text": [
            "Cloning into 'ml_helpers'...\n",
            "remote: Enumerating objects: 56, done.\u001b[K\n",
            "remote: Counting objects: 100% (56/56), done.\u001b[K\n",
            "remote: Compressing objects: 100% (42/42), done.\u001b[K\n",
            "remote: Total 56 (delta 27), reused 35 (delta 11), pack-reused 0\u001b[K\n",
            "Receiving objects: 100% (56/56), 13.41 KiB | 13.41 MiB/s, done.\n",
            "Resolving deltas: 100% (27/27), done.\n"
          ]
        }
      ],
      "source": [
        "# Clone the GitHub\n",
        "!git clone https://github.com/atikul-islam-sajib/ml_helpers.git"
      ]
    },
    {
      "cell_type": "code",
      "source": [
        "# Change the directory\n",
        "%cd /content/ml_helpers/"
      ],
      "metadata": {
        "colab": {
          "base_uri": "https://localhost:8080/"
        },
        "id": "C4_bnWva2x_Z",
        "outputId": "a0947079-ce83-4a53-aa19-3a0c473e1b04"
      },
      "execution_count": 20,
      "outputs": [
        {
          "output_type": "stream",
          "name": "stdout",
          "text": [
            "/content/ml_helpers\n"
          ]
        }
      ]
    },
    {
      "cell_type": "code",
      "source": [
        "# Install the requirements\n",
        "!pip install -r requirements.txt"
      ],
      "metadata": {
        "colab": {
          "base_uri": "https://localhost:8080/"
        },
        "id": "Ocgk9XIr2gYd",
        "outputId": "23dd9e11-7e5b-453c-f3b1-100be5fefb5e"
      },
      "execution_count": 21,
      "outputs": [
        {
          "output_type": "stream",
          "name": "stdout",
          "text": [
            "Requirement already satisfied: graphviz in /usr/local/lib/python3.10/dist-packages (from -r requirements.txt (line 9)) (0.20.1)\n",
            "Requirement already satisfied: numpy in /usr/local/lib/python3.10/dist-packages (from -r requirements.txt (line 10)) (1.23.5)\n",
            "Requirement already satisfied: scikit-learn in /usr/local/lib/python3.10/dist-packages (from -r requirements.txt (line 11)) (1.2.2)\n",
            "Requirement already satisfied: matplotlib in /usr/local/lib/python3.10/dist-packages (from -r requirements.txt (line 12)) (3.7.1)\n",
            "Requirement already satisfied: imodels in /usr/local/lib/python3.10/dist-packages (from -r requirements.txt (line 13)) (1.4.1)\n",
            "Requirement already satisfied: pmlb in /usr/local/lib/python3.10/dist-packages (from -r requirements.txt (line 14)) (1.0.1.post3)\n",
            "Requirement already satisfied: scipy>=1.3.2 in /usr/local/lib/python3.10/dist-packages (from scikit-learn->-r requirements.txt (line 11)) (1.11.4)\n",
            "Requirement already satisfied: joblib>=1.1.1 in /usr/local/lib/python3.10/dist-packages (from scikit-learn->-r requirements.txt (line 11)) (1.3.2)\n",
            "Requirement already satisfied: threadpoolctl>=2.0.0 in /usr/local/lib/python3.10/dist-packages (from scikit-learn->-r requirements.txt (line 11)) (3.2.0)\n",
            "Requirement already satisfied: contourpy>=1.0.1 in /usr/local/lib/python3.10/dist-packages (from matplotlib->-r requirements.txt (line 12)) (1.2.0)\n",
            "Requirement already satisfied: cycler>=0.10 in /usr/local/lib/python3.10/dist-packages (from matplotlib->-r requirements.txt (line 12)) (0.12.1)\n",
            "Requirement already satisfied: fonttools>=4.22.0 in /usr/local/lib/python3.10/dist-packages (from matplotlib->-r requirements.txt (line 12)) (4.48.1)\n",
            "Requirement already satisfied: kiwisolver>=1.0.1 in /usr/local/lib/python3.10/dist-packages (from matplotlib->-r requirements.txt (line 12)) (1.4.5)\n",
            "Requirement already satisfied: packaging>=20.0 in /usr/local/lib/python3.10/dist-packages (from matplotlib->-r requirements.txt (line 12)) (23.2)\n",
            "Requirement already satisfied: pillow>=6.2.0 in /usr/local/lib/python3.10/dist-packages (from matplotlib->-r requirements.txt (line 12)) (9.4.0)\n",
            "Requirement already satisfied: pyparsing>=2.3.1 in /usr/local/lib/python3.10/dist-packages (from matplotlib->-r requirements.txt (line 12)) (3.1.1)\n",
            "Requirement already satisfied: python-dateutil>=2.7 in /usr/local/lib/python3.10/dist-packages (from matplotlib->-r requirements.txt (line 12)) (2.8.2)\n",
            "Requirement already satisfied: mlxtend>=0.18.0 in /usr/local/lib/python3.10/dist-packages (from imodels->-r requirements.txt (line 13)) (0.22.0)\n",
            "Requirement already satisfied: pandas in /usr/local/lib/python3.10/dist-packages (from imodels->-r requirements.txt (line 13)) (1.5.3)\n",
            "Requirement already satisfied: requests in /usr/local/lib/python3.10/dist-packages (from imodels->-r requirements.txt (line 13)) (2.31.0)\n",
            "Requirement already satisfied: tqdm in /usr/local/lib/python3.10/dist-packages (from imodels->-r requirements.txt (line 13)) (4.66.1)\n",
            "Requirement already satisfied: pyyaml>=5.3.1 in /usr/local/lib/python3.10/dist-packages (from pmlb->-r requirements.txt (line 14)) (6.0.1)\n",
            "Requirement already satisfied: setuptools in /usr/local/lib/python3.10/dist-packages (from mlxtend>=0.18.0->imodels->-r requirements.txt (line 13)) (67.7.2)\n",
            "Requirement already satisfied: pytz>=2020.1 in /usr/local/lib/python3.10/dist-packages (from pandas->imodels->-r requirements.txt (line 13)) (2023.4)\n",
            "Requirement already satisfied: six>=1.5 in /usr/local/lib/python3.10/dist-packages (from python-dateutil>=2.7->matplotlib->-r requirements.txt (line 12)) (1.16.0)\n",
            "Requirement already satisfied: charset-normalizer<4,>=2 in /usr/local/lib/python3.10/dist-packages (from requests->imodels->-r requirements.txt (line 13)) (3.3.2)\n",
            "Requirement already satisfied: idna<4,>=2.5 in /usr/local/lib/python3.10/dist-packages (from requests->imodels->-r requirements.txt (line 13)) (3.6)\n",
            "Requirement already satisfied: urllib3<3,>=1.21.1 in /usr/local/lib/python3.10/dist-packages (from requests->imodels->-r requirements.txt (line 13)) (2.0.7)\n",
            "Requirement already satisfied: certifi>=2017.4.17 in /usr/local/lib/python3.10/dist-packages (from requests->imodels->-r requirements.txt (line 13)) (2024.2.2)\n"
          ]
        }
      ]
    },
    {
      "cell_type": "markdown",
      "source": [
        "#Import the modules"
      ],
      "metadata": {
        "id": "hzR-MxFz5du-"
      }
    },
    {
      "cell_type": "code",
      "source": [
        "# Import the module\n",
        "from src.classifier import CustomRandomForestClassifier\n",
        "from src.regressor import CustomRandomForestRegressor\n",
        "from src.benchmark_evalaute import evaluate_datasets"
      ],
      "metadata": {
        "id": "UdZNhOuG2M_I"
      },
      "execution_count": 22,
      "outputs": []
    },
    {
      "cell_type": "markdown",
      "source": [
        "#Define the Dataset Classification"
      ],
      "metadata": {
        "id": "pdlTYaPa6Mey"
      }
    },
    {
      "cell_type": "code",
      "source": [
        "import warnings\n",
        "warnings.filterwarnings('ignore')\n",
        "\n",
        "\n",
        "from sklearn.datasets import make_classification\n",
        "X, y = make_classification(\n",
        "    n_samples=1000, n_features=4, n_informative=2, n_redundant=0, random_state=42\n",
        "    )"
      ],
      "metadata": {
        "id": "Fqh2e2yI5nX-"
      },
      "execution_count": 23,
      "outputs": []
    },
    {
      "cell_type": "markdown",
      "source": [
        "###predict the model with weight(Uniform)"
      ],
      "metadata": {
        "id": "On75zKB86PZk"
      }
    },
    {
      "cell_type": "code",
      "source": [
        "# Predict the model\n",
        "clf = CustomRandomForestClassifier(n_estimators=10)\n",
        "clf.fit(X, y)\n",
        "print(clf.predict(X[:5], weights=\"uniform\"))\n",
        "\n",
        "# Using predict_proba that provide probabilites\n",
        "\n",
        "clf = CustomRandomForestClassifier(n_estimators=10)\n",
        "clf.fit(X, y)\n",
        "print(clf.predict_proba(X[:5], weights=\"uniform\"))"
      ],
      "metadata": {
        "colab": {
          "base_uri": "https://localhost:8080/"
        },
        "id": "nMhB21yM61a8",
        "outputId": "8071e44a-64de-47de-821e-d32ea34097e5"
      },
      "execution_count": 24,
      "outputs": [
        {
          "output_type": "stream",
          "name": "stdout",
          "text": [
            "[1 0 0 1 1]\n",
            "[[0.  1. ]\n",
            " [0.9 0.1]\n",
            " [1.  0. ]\n",
            " [0.  1. ]\n",
            " [0.  1. ]]\n"
          ]
        }
      ]
    },
    {
      "cell_type": "markdown",
      "source": [
        "###Predict the model with weight(expOOB)"
      ],
      "metadata": {
        "id": "LYP-E65w6osJ"
      }
    },
    {
      "cell_type": "code",
      "source": [
        "# Predict the model\n",
        "clf = CustomRandomForestClassifier(n_estimators=10)\n",
        "clf.fit(X, y)\n",
        "print(clf.predict(X[:5], weights=\"expOOB\"))\n",
        "\n",
        "# Using predict_proba that provide probabilites\n",
        "\n",
        "clf = CustomRandomForestClassifier(n_estimators=10)\n",
        "clf.fit(X, y)\n",
        "print(clf.predict_proba(X[:5], weights=\"expOOB\"))"
      ],
      "metadata": {
        "colab": {
          "base_uri": "https://localhost:8080/"
        },
        "id": "pQaUZons6XVH",
        "outputId": "68a80076-a557-4520-b063-6c822701fbb8"
      },
      "execution_count": 25,
      "outputs": [
        {
          "output_type": "stream",
          "name": "stdout",
          "text": [
            "[1 0 0 1 1]\n",
            "[[0. 1.]\n",
            " [1. 0.]\n",
            " [1. 0.]\n",
            " [0. 1.]\n",
            " [0. 1.]]\n"
          ]
        }
      ]
    },
    {
      "cell_type": "markdown",
      "source": [
        "#Define the Dataset for Regressor"
      ],
      "metadata": {
        "id": "_R-qUNbK8tWG"
      }
    },
    {
      "cell_type": "code",
      "source": [
        "from sklearn.datasets import make_regression\n",
        "X, y = make_regression(\n",
        "    n_samples=1000, n_features=4, n_informative=2, noise=0.5, random_state=42)"
      ],
      "metadata": {
        "id": "5d3wBfXs8xlU"
      },
      "execution_count": 26,
      "outputs": []
    },
    {
      "cell_type": "markdown",
      "source": [
        "####Predict the model with weight(uniform)"
      ],
      "metadata": {
        "id": "QzVUqUST86vy"
      }
    },
    {
      "cell_type": "code",
      "source": [
        "# Predict the model with weight - uniform\n",
        "reg = CustomRandomForestRegressor(n_estimators=100, random_state=42)\n",
        "reg.fit(X, y)\n",
        "print(reg.predict(X[:5], weights = \"uniform\"))"
      ],
      "metadata": {
        "colab": {
          "base_uri": "https://localhost:8080/"
        },
        "id": "wNtbEGUZ8-sC",
        "outputId": "123e1330-feba-455b-f22f-b94d159792e8"
      },
      "execution_count": 27,
      "outputs": [
        {
          "output_type": "stream",
          "name": "stdout",
          "text": [
            "[-17.97860333  82.48225867  40.8653016   94.58508302 -95.30508413]\n"
          ]
        }
      ]
    },
    {
      "cell_type": "markdown",
      "source": [
        "####Predict the mdoel with weights(expOOB)"
      ],
      "metadata": {
        "id": "-k42PZGC9VQa"
      }
    },
    {
      "cell_type": "code",
      "source": [
        "# Predict the model\n",
        "reg = CustomRandomForestRegressor(n_estimators=100, random_state=42)\n",
        "reg.fit(X, y)\n",
        "print(reg.predict(X[:5], weights = \"expOOB\"))"
      ],
      "metadata": {
        "colab": {
          "base_uri": "https://localhost:8080/"
        },
        "id": "dlJKXHZ59gUN",
        "outputId": "02c59241-a955-4d54-e73e-bce8c9f66cf3"
      },
      "execution_count": 28,
      "outputs": [
        {
          "output_type": "stream",
          "name": "stdout",
          "text": [
            "[-17.4208611   83.22540804  40.09542304  94.43333363 -94.54827658]\n"
          ]
        }
      ]
    },
    {
      "cell_type": "markdown",
      "source": [
        "#Test with Benchmarking Data"
      ],
      "metadata": {
        "id": "_ismAZjf5gws"
      }
    },
    {
      "cell_type": "code",
      "source": [
        "if __name__ == \"__main__\":\n",
        "\n",
        "    # Define your datasets\n",
        "    classification_datasets = [\"diabetes\", \"breast_cancer\", \"heart\", \"haberman\"]\n",
        "    regression_datasets = [\"fico\", \"enhancer\", \"credit_g\", \"juvenile_clean\"]\n",
        "\n",
        "    # Evaluate classification datasets\n",
        "    df_classification_scores = evaluate_datasets(\n",
        "        classification_datasets, task_type=\"classification\"\n",
        "    )\n",
        "\n",
        "    # Evaluate regression datasetss\n",
        "    df_regression_scores = evaluate_datasets(\n",
        "        regression_datasets, task_type=\"regression\"\n",
        "    )\n",
        "\n",
        "    # Print scores for each dataset\n",
        "    print(\"Classification Scores:\")\n",
        "    print(df_classification_scores)\n",
        "    print(\"=\" * 100)\n",
        "    print(\"\\nRegression Scores:\")\n",
        "    print(df_regression_scores)"
      ],
      "metadata": {
        "colab": {
          "base_uri": "https://localhost:8080/"
        },
        "id": "7EumBzhM2doX",
        "outputId": "dee34542-8b31-418c-ee9f-76b3fc35c6f7"
      },
      "execution_count": 29,
      "outputs": [
        {
          "output_type": "stream",
          "name": "stdout",
          "text": [
            "fetching diabetes from pmlb\n",
            "fetching heart from imodels\n",
            "fetching fico from imodels\n",
            "fetching credit_g from imodels\n",
            "Classification Scores:\n",
            "         Dataset   Default    expOOB\n",
            "0       diabetes  0.830926  0.830370\n",
            "1  breast_cancer  0.828231  0.828231\n",
            "2          heart  0.915584  0.916306\n",
            "3       haberman  0.624369  0.623737\n",
            "====================================================================================================\n",
            "\n",
            "Regression Scores:\n",
            "          Dataset   Default    expOOB\n",
            "0            fico  0.448790  0.448789\n",
            "1        enhancer  0.245904  0.245917\n",
            "2        credit_g  0.398569  0.398691\n",
            "3  juvenile_clean  0.262467  0.262477\n"
          ]
        }
      ]
    },
    {
      "cell_type": "code",
      "source": [],
      "metadata": {
        "id": "xBabeZwa4koK"
      },
      "execution_count": 29,
      "outputs": []
    }
  ]
}